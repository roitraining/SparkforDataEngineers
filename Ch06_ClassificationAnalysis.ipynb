{
 "cells": [
  {
   "cell_type": "code",
   "execution_count": null,
   "metadata": {},
   "outputs": [],
   "source": [
    "import sys\n",
    "sys.path.append('/home/student/ROI/SparkProgram')\n",
    "\n",
    "import pandas as pd\n",
    "import matplotlib as mp\n",
    "import numpy\n",
    "from matplotlib import pyplot as plt\n",
    "#from IPython.display import display\n",
    "\n",
    "import pyspark_helpers as pyh\n",
    "sc, spark, conf = pyh.initspark()\n",
    "from pyspark_helpers import display"
   ]
  },
  {
   "cell_type": "code",
   "execution_count": null,
   "metadata": {},
   "outputs": [],
   "source": [
    "filename = 'bank.csv'\n",
    "df = spark.read.csv(f'/home/student/ROI/Spark/datasets/finance/{filename}', header = True, inferSchema = True)\n",
    "display(df)\n",
    "\n",
    "# Save a pointer to the raw data\n",
    "dfRawFile = df\n"
   ]
  },
  {
   "cell_type": "code",
   "execution_count": null,
   "metadata": {},
   "outputs": [],
   "source": [
    "# Let's just keep a few fields to start with for simplicity\n",
    "numeric_features = ['age','balance', 'duration', 'pdays']\n",
    "categorical_features = ['job', 'marital', 'education', 'housing', 'loan', 'contact', 'campaign', 'poutcome', 'deposit']\n",
    "\n",
    "# numeric_features = ['balance', 'duration', 'age']\n",
    "# categorical_features = ['marital', 'education']\n",
    "target_label = 'default'\n",
    "\n",
    "\n",
    "df = dfRawFile.select(numeric_features + categorical_features + [target_label])\n",
    "display(df)\n",
    "print(df.take(1))"
   ]
  },
  {
   "cell_type": "code",
   "execution_count": null,
   "metadata": {},
   "outputs": [],
   "source": [
    "%matplotlib inline\n",
    "# import imp\n",
    "# imp.reload(pyh)\n",
    "\n",
    "pyh.describe_numeric_features(df, numeric_features)\n",
    "pyh.scatter_matrix(df, numeric_features)\n"
   ]
  },
  {
   "cell_type": "code",
   "execution_count": null,
   "metadata": {},
   "outputs": [],
   "source": [
    "\n",
    "# print('Convert string features to indexed numeric values')\n",
    "# df1 = pyh.StringIndexEncode(df, categorical_features + [target_label])\n",
    "# display(df1)\n",
    "\n",
    "# print('Convert indexed features to OneHotEncoded sparse matrix')\n",
    "# df2 = pyh.OneHotEncode(df1, categorical_features)\n",
    "# display(df2)\n",
    "\n",
    "# print('Assemble all features and target label into vectors')\n",
    "# df3 = pyh.AssembleFeatures(df2, categorical_features, numeric_features, target_label + '_Index')\n",
    "# display(df3)\n",
    "# df3.printSchema()\n",
    "\n",
    "dfML = pyh.MakeMLDataFrame(df, categorical_features, numeric_features, target_label)\n",
    "display(dfML)\n",
    "dfML.printSchema()\n",
    "display(dfML.groupBy('label').count())\n",
    "\n"
   ]
  },
  {
   "cell_type": "code",
   "execution_count": null,
   "metadata": {},
   "outputs": [],
   "source": [
    "# dfML.write.format('libsvm').save('testsave')\n",
    "# dfML = spark.read.format('libsvm').load('testsave')\n",
    "# x.printSchema()\n",
    "# display(x)"
   ]
  },
  {
   "cell_type": "code",
   "execution_count": null,
   "metadata": {},
   "outputs": [],
   "source": [
    "train, test = dfML.randomSplit([.7,.3], seed = 1000)\n",
    "print (f'Training set row count {train.count()}')\n",
    "print (f'Testing set row count {test.count()}')\n",
    "      "
   ]
  },
  {
   "cell_type": "code",
   "execution_count": null,
   "metadata": {},
   "outputs": [],
   "source": [
    "from pyspark.ml.classification import LogisticRegression\n",
    "lr = LogisticRegression(featuresCol = 'features', labelCol = 'label', maxIter=10)\n",
    "lrModel = lr.fit(train)\n",
    "print('LR Trained')\n",
    "\n",
    "filename1 = filename.replace('.','_') + '_LR_trainedModel'\n",
    "lrModel.write().overwrite().save(filename1)\n",
    "print('LR Saved')\n"
   ]
  },
  {
   "cell_type": "code",
   "execution_count": null,
   "metadata": {},
   "outputs": [],
   "source": [
    "#lrModel2 = LogisticRegression.load(filename1)"
   ]
  },
  {
   "cell_type": "code",
   "execution_count": null,
   "metadata": {},
   "outputs": [],
   "source": [
    "lrPredictions, lrLog = pyh.predict_and_evaluate(lrModel, test)\n",
    "\n"
   ]
  },
  {
   "cell_type": "code",
   "execution_count": null,
   "metadata": {},
   "outputs": [],
   "source": [
    "from pyspark.ml.classification import DecisionTreeClassifier\n",
    "dt = DecisionTreeClassifier(featuresCol = 'features', labelCol = 'label', maxDepth = 3)\n",
    "dtModel = dt.fit(train)\n",
    "print('DT Trained')\n",
    "\n",
    "filename1 = filename.replace('.','_') + '_DT_trainedModel'\n",
    "dtModel.write().overwrite().save(filename1)\n",
    "print('DT Saved')\n"
   ]
  },
  {
   "cell_type": "code",
   "execution_count": null,
   "metadata": {},
   "outputs": [],
   "source": [
    "dtPredictions, dtLog = pyh.predict_and_evaluate(dtModel, test)\n"
   ]
  },
  {
   "cell_type": "code",
   "execution_count": null,
   "metadata": {},
   "outputs": [],
   "source": [
    "from pyspark.ml.classification import RandomForestClassifier\n",
    "rf = RandomForestClassifier(featuresCol = 'features', labelCol = 'label')\n",
    "rfModel = rf.fit(train)\n",
    "print('RF Trained')\n",
    "\n",
    "filename1 = filename.replace('.','_') + '_RF_trainedModel'\n",
    "rfModel.write().overwrite().save(filename1)\n",
    "print('RF Saved')\n",
    "\n"
   ]
  },
  {
   "cell_type": "code",
   "execution_count": null,
   "metadata": {},
   "outputs": [],
   "source": [
    "rfPredictions, rfLog = pyh.predict_and_evaluate(rfModel, test)\n",
    "\n"
   ]
  },
  {
   "cell_type": "code",
   "execution_count": null,
   "metadata": {},
   "outputs": [],
   "source": [
    "from pyspark.ml.classification import GBTClassifier\n",
    "gbt = GBTClassifier(maxIter=10)\n",
    "gbtModel = gbt.fit(train)\n",
    "print ('GBT Trained')\n",
    "\n",
    "filename1 = filename.replace('.','_') + '_GBT_trainedModel'\n",
    "rfModel.write().overwrite().save(filename1)\n",
    "print ('GBT Saved')\n",
    "\n"
   ]
  },
  {
   "cell_type": "code",
   "execution_count": null,
   "metadata": {},
   "outputs": [],
   "source": [
    "gbtPredictions, gbtLog = pyh.predict_and_evaluate(gbtModel, test)\n",
    "\n"
   ]
  },
  {
   "cell_type": "code",
   "execution_count": null,
   "metadata": {},
   "outputs": [],
   "source": []
  }
 ],
 "metadata": {
  "kernelspec": {
   "display_name": "Python 3",
   "language": "python",
   "name": "python3"
  },
  "language_info": {
   "codemirror_mode": {
    "name": "ipython",
    "version": 3
   },
   "file_extension": ".py",
   "mimetype": "text/x-python",
   "name": "python",
   "nbconvert_exporter": "python",
   "pygments_lexer": "ipython3",
   "version": "3.7.3"
  }
 },
 "nbformat": 4,
 "nbformat_minor": 2
}
