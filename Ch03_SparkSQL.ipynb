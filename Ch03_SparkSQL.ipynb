{
 "cells": [
  {
   "cell_type": "markdown",
   "metadata": {
    "colab_type": "text",
    "id": "view-in-github"
   },
   "source": [
    "<a href=\"https://colab.research.google.com/github/roitraining/SparkforDataEngineers/blob/Development/Ch03_SparkSQL.ipynb\" target=\"_parent\"><img src=\"https://colab.research.google.com/assets/colab-badge.svg\" alt=\"Open In Colab\"/></a>"
   ]
  },
  {
   "cell_type": "markdown",
   "metadata": {
    "colab_type": "text",
    "id": "VRzVuf1Jjvw_"
   },
   "source": [
    "### Open a terminal window and run the following commands:\n",
    "sudo bash\n",
    "start-hadoop\n",
    "cd /home/student/ROI/SparkProgram/Day3\n",
    "./fixhive.sh\n"
   ]
  },
  {
   "cell_type": "markdown",
   "metadata": {
    "colab_type": "text",
    "id": "1MZuPHFmjvxE"
   },
   "source": [
    "### Let's make a simple hive table for regions."
   ]
  },
  {
   "cell_type": "code",
   "execution_count": null,
   "metadata": {
    "colab": {},
    "colab_type": "code",
    "id": "Gw7WCt1GjvxG"
   },
   "outputs": [],
   "source": [
    "! cat /home/student/ROI/Spark/regions.hql"
   ]
  },
  {
   "cell_type": "code",
   "execution_count": 1,
   "metadata": {
    "colab": {},
    "colab_type": "code",
    "id": "sfPR7Z3UjvxK"
   },
   "outputs": [
    {
     "name": "stdout",
     "output_type": "stream",
     "text": [
      "initializing pyspark\n",
      "pyspark initialized\n"
     ]
    }
   ],
   "source": [
    "import sys\n",
    "\n",
    "rootpath = '/home/student/ROI/Spark/'\n",
    "datapath = f'{rootpath}datasets/'\n",
    "sys.path.append(rootpath)\n",
    "from pyspark_helpers import *\n",
    "sc, spark, conf = initspark()\n",
    "\n"
   ]
  },
  {
   "cell_type": "markdown",
   "metadata": {
    "colab_type": "text",
    "id": "ISVSWDXVjvxO"
   },
   "source": [
    "### You can query an existing Hive table and bring it into a Spark DataFrame."
   ]
  },
  {
   "cell_type": "code",
   "execution_count": null,
   "metadata": {
    "colab": {},
    "colab_type": "code",
    "id": "gqn192y6jvxQ"
   },
   "outputs": [],
   "source": [
    "regions = spark.sql('select * from regions')\n",
    "regions.show()\n",
    "print(regions)"
   ]
  },
  {
   "cell_type": "markdown",
   "metadata": {
    "colab_type": "text",
    "id": "6bOc2M8pjvxU"
   },
   "source": [
    "### Read in a file to a Spark DataFrame."
   ]
  },
  {
   "cell_type": "code",
   "execution_count": null,
   "metadata": {
    "colab": {},
    "colab_type": "code",
    "id": "lvKK5WJzjvxW"
   },
   "outputs": [],
   "source": [
    "territories = spark.read.csv(f'{datapath}/northwind/CSVHeaders/territories', header=True)\n",
    "territories.show()"
   ]
  },
  {
   "cell_type": "markdown",
   "metadata": {
    "colab_type": "text",
    "id": "YejFbgM_jvxZ"
   },
   "source": [
    "### Use createOrReplaceTempView to create a virtual table in the Hive catalog and then it can be queried using SQL as if it were a hive table."
   ]
  },
  {
   "cell_type": "code",
   "execution_count": null,
   "metadata": {
    "colab": {},
    "colab_type": "code",
    "id": "8DY_yVNWjvxb"
   },
   "outputs": [],
   "source": [
    "territories.createOrReplaceTempView('territories')\n",
    "t1 =spark.sql('select * from territories where regionid = 1')\n",
    "t1.show()\n",
    "print(t1.count())"
   ]
  },
  {
   "cell_type": "markdown",
   "metadata": {
    "colab_type": "text",
    "id": "0cuO52Zzjvxf"
   },
   "source": [
    "### Spark DataFrames can be saved to a Hive table using either the saveAsTable method or writing a SQL query that uses CREATE TABLE AS."
   ]
  },
  {
   "cell_type": "code",
   "execution_count": null,
   "metadata": {
    "colab": {},
    "colab_type": "code",
    "id": "mU5P_oxAjvxh"
   },
   "outputs": [],
   "source": [
    "! hadoop fs -rm -r /user/hive/warehouse/territories2\n",
    "! hadoop fs -rm -r /user/hive/warehouse/territories3\n",
    "! hadoop fs -rm -r /user/hive/warehouse/territoryregion\n",
    "spark.sql('drop table if exists territories2')\n",
    "spark.sql('drop table if exists territories3')\n",
    "\n",
    "territories.write.saveAsTable('Territories2', mode='overwrite')\n",
    "spark.sql('create table Territories3 as select * from territories')"
   ]
  },
  {
   "cell_type": "markdown",
   "metadata": {
    "colab_type": "text",
    "id": "Mh-n9ExPjvxl"
   },
   "source": [
    "### Queries use standard HQL to mix Hive tables and virtual tables. Both are read into a Spark DataFrame and the processing happens at the Spark level not at the Hive level. HQL is just used to parse the logic into the corresponding Spark methods."
   ]
  },
  {
   "cell_type": "code",
   "execution_count": null,
   "metadata": {
    "colab": {},
    "colab_type": "code",
    "id": "lhTD011pjvxm"
   },
   "outputs": [],
   "source": [
    "sql = \"\"\"select r.regionid, r.regionname, t.territoryid, t.territoryname \n",
    "from regions as r \n",
    "join territories as t on r.regionid = t.regionid \n",
    "order by r.regionid, t.territoryid\"\"\"\n",
    "rt = spark.sql(sql)\n",
    "rt.show(10)\n",
    "\n",
    "tr = regions.join(territories, regions.regionid == territories.RegionID). \\\n",
    "     select('regions.regionid', 'regionname', 'TerritoryID', 'TerritoryName')\n",
    "tr.show(10)"
   ]
  },
  {
   "cell_type": "markdown",
   "metadata": {
    "colab_type": "text",
    "id": "zIhleFVQjvxq"
   },
   "source": [
    "### Lab: Read the northwind JSON products and make it into a TempView and do the same with the CSVHeaders version of categories. Then join the two."
   ]
  },
  {
   "cell_type": "code",
   "execution_count": null,
   "metadata": {
    "colab": {},
    "colab_type": "code",
    "id": "1W3KqQamjvxr"
   },
   "outputs": [],
   "source": []
  },
  {
   "cell_type": "markdown",
   "metadata": {
    "colab_type": "text",
    "id": "w0fxc66Zjvxv"
   },
   "source": [
    "### Install the MySQL Python connector. This has nothing to do with Spark but if you want to run SQL queries directly, it is helpful."
   ]
  },
  {
   "cell_type": "code",
   "execution_count": null,
   "metadata": {
    "colab": {},
    "colab_type": "code",
    "id": "cafLHRpJjvxw"
   },
   "outputs": [],
   "source": [
    "#! pip install mysql-connector-python"
   ]
  },
  {
   "cell_type": "markdown",
   "metadata": {
    "colab_type": "text",
    "id": "IYdB-iOyjvx0"
   },
   "source": [
    "### Let's make sure we have a database for northwind and no regions table."
   ]
  },
  {
   "cell_type": "code",
   "execution_count": null,
   "metadata": {
    "colab": {},
    "colab_type": "code",
    "id": "Pmtrb-VAjvx2"
   },
   "outputs": [],
   "source": [
    "import mysql.connector\n",
    "try:\n",
    "    cn = mysql.connector.connect(host='localhost', user='test', password='password')\n",
    "    cursor = cn.cursor()\n",
    "    cursor.execute('create database if not exists northwind')\n",
    "    cn.close()\n",
    "\n",
    "    cn = mysql.connector.connect(host='localhost', user='test', password='password', database='northwind')\n",
    "    cursor = cn.cursor()    \n",
    "    cursor.execute('drop table if exists regions')\n",
    "    cn.close()\n",
    "except:\n",
    "    print('something went wrong')\n",
    "else:\n",
    "    print('success')\n",
    "\n"
   ]
  },
  {
   "cell_type": "markdown",
   "metadata": {
    "colab_type": "text",
    "id": "N36mOVI-jvx6"
   },
   "source": [
    "### Write a DataFrame to a SQL database."
   ]
  },
  {
   "cell_type": "code",
   "execution_count": null,
   "metadata": {
    "colab": {},
    "colab_type": "code",
    "id": "u666dY6gjvx7"
   },
   "outputs": [],
   "source": [
    "regions.write.format(\"jdbc\").mode('overwrite').options(url=\"jdbc:mysql://localhost/northwind\", driver='com.mysql.jdbc.Driver', dbtable='regions', user='test', password = \"password\", mode = \"append\", useSSL = \"false\").save()\n",
    "print('Done')"
   ]
  },
  {
   "cell_type": "markdown",
   "metadata": {
    "colab_type": "text",
    "id": "qTyFO5Exjvx_"
   },
   "source": [
    "### Read a SQL table into a Spark DataFrame."
   ]
  },
  {
   "cell_type": "code",
   "execution_count": null,
   "metadata": {
    "colab": {},
    "colab_type": "code",
    "id": "vVi4NdT0jvyA"
   },
   "outputs": [],
   "source": [
    "regions2 = spark.read.format(\"jdbc\").options(url=\"jdbc:mysql://localhost/northwind\", driver=\"com.mysql.jdbc.Driver\", dbtable= \"regions\", user=\"test\", password=\"password\").load()\n",
    "regions2.show()\n"
   ]
  },
  {
   "cell_type": "markdown",
   "metadata": {
    "colab_type": "text",
    "id": "kNfDRz36jvyF"
   },
   "source": [
    "### Creating the regions2 DataFrame does not execute anything yet, but by making the DataFrame into a Temp View then running a Spark SQL query, it tells Spark to read the SQL data into a DataFrame and then use the cluster to do the processing, not the SQL source."
   ]
  },
  {
   "cell_type": "code",
   "execution_count": null,
   "metadata": {
    "colab": {},
    "colab_type": "code",
    "id": "ROA9gHJ9jvyG"
   },
   "outputs": [],
   "source": [
    "regions2.createOrReplaceTempView('regions2')\n",
    "spark.sql('select * from regions2 where regionid < 3').show()"
   ]
  },
  {
   "cell_type": "markdown",
   "metadata": {
    "colab_type": "text",
    "id": "uY5szGj1jvyJ"
   },
   "source": [
    "### Alternate ways to code a query using SQL and methods."
   ]
  },
  {
   "cell_type": "code",
   "execution_count": null,
   "metadata": {
    "colab": {},
    "colab_type": "code",
    "id": "TumW8dZpjvyK"
   },
   "outputs": [],
   "source": [
    "print(spark.sql('select count(*) from regions').collect())\n",
    "spark.sql('select * from regions').count()"
   ]
  },
  {
   "cell_type": "markdown",
   "metadata": {
    "colab_type": "text",
    "id": "aNL1sa6ljvyN"
   },
   "source": [
    "### Using SQL you can use familiar syntax instead of withColumn or withCoumnRenamed methods."
   ]
  },
  {
   "cell_type": "code",
   "execution_count": null,
   "metadata": {
    "colab": {},
    "colab_type": "code",
    "id": "O8HXp3WzjvyP"
   },
   "outputs": [],
   "source": [
    "t1 = spark.sql('select TerritoryID as TerrID, UPPER(TerritoryName) as TerritoryName, RegionID from territories')\n",
    "t1.show(5)\n",
    "\n",
    "from pyspark.sql.functions import expr\n",
    "territories.withColumn('TerritoryName', expr('UPPER(TerritoryName)')).withColumnRenamed('TerritoryID', 'TerrID').show(5)"
   ]
  },
  {
   "cell_type": "markdown",
   "metadata": {
    "colab_type": "text",
    "id": "hXOWeUhCjvyT"
   },
   "source": [
    "### Sometimes there is a function in Python that doesn't exist in SQL and it would be helpful to use, so you could make a udf and use withColumn."
   ]
  },
  {
   "cell_type": "code",
   "execution_count": null,
   "metadata": {
    "colab": {},
    "colab_type": "code",
    "id": "V7aDNl6GjvyU"
   },
   "outputs": [],
   "source": [
    "from pyspark.sql.functions import expr, udf\n",
    "from pyspark.sql.types import *\n",
    "\n",
    "t2 = spark.sql('select * from territories')\n",
    "t2.printSchema()\n",
    "#t2.show()\n",
    "t2 = t2.withColumn('upperName', expr('UPPER(TerritoryName)'))\n",
    "t2.show(5)\n",
    "\n",
    "t2 = t2.withColumn('titleName', udf(lambda x : x.title(), StringType())(t2.upperName))\n",
    "t2.show(5)\n"
   ]
  },
  {
   "cell_type": "markdown",
   "metadata": {
    "colab_type": "text",
    "id": "9Hyt_WXFjvyh"
   },
   "source": [
    "### To make it easier though, you could make the Python function into a udf that SQL can understand similar to how you can make a DataFrame seem like a virtual table with createOrReplaceTempView."
   ]
  },
  {
   "cell_type": "code",
   "execution_count": null,
   "metadata": {
    "colab": {},
    "colab_type": "code",
    "id": "pKyjaetvjvyl"
   },
   "outputs": [],
   "source": [
    "def reverseString(x):\n",
    "    return x[::-1]\n",
    "\n",
    "spark.udf.register('reverse', reverseString, StringType())\n",
    "\n",
    "spark.sql('select *, reverse(TerritoryName) as Reversed from Territories').orderBy('Reversed').show()"
   ]
  },
  {
   "cell_type": "markdown",
   "metadata": {
    "colab_type": "text",
    "id": "SvgexA38jvyq"
   },
   "source": [
    "### HQL has collect_set and collect_list functions to aggregate items into a list instead of summing them up. "
   ]
  },
  {
   "cell_type": "code",
   "execution_count": null,
   "metadata": {
    "colab": {},
    "colab_type": "code",
    "id": "VO1-BX2Yjvyt",
    "scrolled": true
   },
   "outputs": [],
   "source": [
    "from pyspark.sql.functions import collect_list\n",
    "territories.groupBy(territories.RegionID).agg(collect_list(territories.TerritoryName)).show()\n",
    "\n",
    "tr1 = spark.sql(\"SELECT RegionID, collect_list(TerritoryName) AS TerritoryList FROM Territories GROUP BY RegionID\")\n",
    "tr1.show()\n",
    "tr1.printSchema()\n",
    "print(tr1.take(1))\n"
   ]
  },
  {
   "cell_type": "markdown",
   "metadata": {
    "colab_type": "text",
    "id": "bER0vib7jvyw"
   },
   "source": [
    "### Instead of a simple datatype you could also collect complex structured objects using the HQL NAMED_STRUCT."
   ]
  },
  {
   "cell_type": "code",
   "execution_count": null,
   "metadata": {
    "colab": {},
    "colab_type": "code",
    "id": "EBw7Xyphjvyx"
   },
   "outputs": [],
   "source": [
    "\n",
    "sql = \"\"\"SELECT r.RegionID, r.RegionName\n",
    ", COLLECT_SET(NAMED_STRUCT(\"TerritoryID\", TerritoryID, \"TerritoryName\", TerritoryName)) AS TerritoryList\n",
    "FROM Regions AS r\n",
    "JOIN Territories AS t ON r.RegionID = t.RegionID\n",
    "GROUP BY r.RegionID, r.RegionName\n",
    "ORDER BY r.RegionID\"\"\"\n",
    "\n",
    "tr2 = spark.sql(sql)\n",
    "tr2.printSchema()\n",
    "print(tr2)\n",
    "tr2.show()\n",
    "print(tr2.take(2))\n",
    "tr2.write.json('TerritoryRegion.json')\n",
    "spark.sql('create table TerritoryRegion as ' + sql)"
   ]
  },
  {
   "cell_type": "markdown",
   "metadata": {
    "colab_type": "text",
    "id": "QFruFeUfjvy5"
   },
   "source": [
    "### If you have data that is already collected into a complex datatype and want to flatten it, you could use HQL EXPLODE function."
   ]
  },
  {
   "cell_type": "markdown",
   "metadata": {
    "colab_type": "text",
    "id": "PrFANoYojvy6"
   },
   "source": [
    "### You could use the Spark explode method."
   ]
  },
  {
   "cell_type": "code",
   "execution_count": null,
   "metadata": {
    "colab": {},
    "colab_type": "code",
    "id": "UFsijdUfjvy7"
   },
   "outputs": [],
   "source": [
    "from pyspark.sql.functions import explode\n",
    "tr1.select('RegionID', explode('TerritoryList')).show()"
   ]
  },
  {
   "cell_type": "markdown",
   "metadata": {
    "colab_type": "text",
    "id": "pBKRyK65jvy-"
   },
   "source": [
    "### Or if the DataFrame is turned into a Temp View, you could use the HQL query to do it."
   ]
  },
  {
   "cell_type": "code",
   "execution_count": null,
   "metadata": {
    "colab": {},
    "colab_type": "code",
    "id": "1u96Thbgjvy_"
   },
   "outputs": [],
   "source": [
    "tr1.createOrReplaceTempView('RegionTerritories')\n",
    "sql = \"\"\"SELECT RegionID, TerritoryName\n",
    "FROM RegionTerritories\n",
    "LATERAL VIEW EXPLODE(TerritoryList) EXPLODED_TABLE AS TerritoryName\n",
    "ORDER BY RegionID, TerritoryName\n",
    "\"\"\"\n",
    "spark.sql(sql).show()"
   ]
  },
  {
   "cell_type": "markdown",
   "metadata": {
    "colab_type": "text",
    "id": "Grkd6ghFjvzC"
   },
   "source": [
    "### Or you could select specific elements from a collection."
   ]
  },
  {
   "cell_type": "code",
   "execution_count": null,
   "metadata": {
    "colab": {},
    "colab_type": "code",
    "id": "wwtqHRLijvzD"
   },
   "outputs": [],
   "source": [
    "tr2.createOrReplaceTempView('RegionTerritories')\n",
    "spark.sql(\"select RegionId, RegionName, TerritoryList[0] as First, TerritoryList[size(TerritoryList) - 1] as Last, size(TerritoryList) as TerritoryCount from RegionTerritories\").show()"
   ]
  },
  {
   "cell_type": "markdown",
   "metadata": {
    "colab_type": "text",
    "id": "WXZWzUozjvzG"
   },
   "source": [
    "### If the array is of structs note the syntax of fetching the elements from the struct uses the . like an object property."
   ]
  },
  {
   "cell_type": "code",
   "execution_count": null,
   "metadata": {
    "colab": {},
    "colab_type": "code",
    "id": "jf9WqBvnjvzH"
   },
   "outputs": [],
   "source": [
    "sql = \"\"\"SELECT RegionID, RegionName, Territory.TerritoryID AS TerritoryID\n",
    ", Territory.TerritoryName AS TerritoryName\n",
    "FROM RegionTerritories\n",
    "LATERAL VIEW EXPLODE(TerritoryList) EXPLODED_TABLE AS Territory\n",
    "\"\"\"\n",
    "spark.sql(sql).show()"
   ]
  },
  {
   "cell_type": "markdown",
   "metadata": {
    "colab_type": "text",
    "id": "Mi0Wyy8rjvzM"
   },
   "source": [
    "### Homework ##\n",
    "\n",
    "**First Challenge**\n",
    "\n",
    "Create a Python function to determine if a number is odd or even and use that to select only the even numbered shippers from the TSV folder of northwind. Note the TSV file does not have headers so you will need to do something to make the DataFrame have a meaningful structure. I would suggest using SparkSql as much as possible to rename and cast the columns which are ShipperID, CompanyName and Phone.\n",
    "\n",
    "**Second Challenge**\n",
    "\n",
    "Take the Order_LineItems.json folder, read it into a DataFrame, and flatten it and then calculate the average price paid for a product.\n",
    "\n"
   ]
  },
  {
   "cell_type": "code",
   "execution_count": 2,
   "metadata": {
    "colab": {},
    "colab_type": "code",
    "id": "KBcR1OCOjvzN"
   },
   "outputs": [
    {
     "name": "stdout",
     "output_type": "stream",
     "text": [
      "Done\n"
     ]
    }
   ],
   "source": [
    "# Read the following code and see how it will shape order line items into the order header record\n",
    "# You will use the result of this saved file for the second challenge\n",
    "o = spark.read.csv('/home/student/ROI/Spark/datasets/northwind/CSVHeaders/orders', header = True, inferSchema = True)\n",
    "od = spark.read.csv('/home/student/ROI/Spark/datasets/northwind/CSVHeaders/orderdetails', header = True, inferSchema = True)\n",
    "\n",
    "o.createOrReplaceTempView('Orders')\n",
    "od.createOrReplaceTempView('OrderDetails')\n",
    "sql = \"\"\"\n",
    "select o.OrderID, o.CustomerID, o.OrderDate\n",
    "           , COUNT(*) as cnt\n",
    "           , SUM(od.unitprice * od.quantity) as OrderTotal\n",
    "           , COLLECT_SET(NAMED_STRUCT(\"ProductID\", od.ProductID, \n",
    "                                      \"UnitPrice\", od.UnitPrice,\n",
    "                                      \"Quantity\", od.Quantity,\n",
    "                                      \"Discount\", od.discount)) as LineItems\n",
    "from Orders as o join OrderDetails as od on o.OrderID = od.OrderID\n",
    "GROUP BY o.OrderID, o.CustomerID, o.OrderDate\n",
    "ORDER BY o.OrderID\"\"\"\n",
    "od2 = spark.sql(sql)\n",
    "od2.write.mode('overwrite').json('Orders_LineItems.json')\n",
    "\n",
    "print('Done')"
   ]
  },
  {
   "cell_type": "code",
   "execution_count": 3,
   "metadata": {},
   "outputs": [
    {
     "data": {
      "text/html": [
       "<div>\n",
       "<style scoped>\n",
       "    .dataframe tbody tr th:only-of-type {\n",
       "        vertical-align: middle;\n",
       "    }\n",
       "\n",
       "    .dataframe tbody tr th {\n",
       "        vertical-align: top;\n",
       "    }\n",
       "\n",
       "    .dataframe thead th {\n",
       "        text-align: right;\n",
       "    }\n",
       "</style>\n",
       "<table border=\"1\" class=\"dataframe\">\n",
       "  <thead>\n",
       "    <tr style=\"text-align: right;\">\n",
       "      <th></th>\n",
       "      <th>OrderID</th>\n",
       "      <th>CustomerID</th>\n",
       "      <th>OrderDate</th>\n",
       "      <th>cnt</th>\n",
       "      <th>OrderTotal</th>\n",
       "      <th>LineItems</th>\n",
       "    </tr>\n",
       "  </thead>\n",
       "  <tbody>\n",
       "    <tr>\n",
       "      <th>0</th>\n",
       "      <td>10248</td>\n",
       "      <td>VINET</td>\n",
       "      <td>1996-07-04</td>\n",
       "      <td>3</td>\n",
       "      <td>440.0</td>\n",
       "      <td>[(72, 34.8, 5, 0.0), (42, 9.8, 10, 0.0), (11, ...</td>\n",
       "    </tr>\n",
       "    <tr>\n",
       "      <th>1</th>\n",
       "      <td>10249</td>\n",
       "      <td>TOMSP</td>\n",
       "      <td>1996-07-05</td>\n",
       "      <td>2</td>\n",
       "      <td>1863.4</td>\n",
       "      <td>[(51, 42.4, 40, 0.0), (14, 18.6, 9, 0.0)]</td>\n",
       "    </tr>\n",
       "    <tr>\n",
       "      <th>2</th>\n",
       "      <td>10250</td>\n",
       "      <td>HANAR</td>\n",
       "      <td>1996-07-08</td>\n",
       "      <td>3</td>\n",
       "      <td>1813.0</td>\n",
       "      <td>[(65, 16.8, 15, 0.15), (51, 42.4, 35, 0.15), (...</td>\n",
       "    </tr>\n",
       "    <tr>\n",
       "      <th>3</th>\n",
       "      <td>10251</td>\n",
       "      <td>VICTE</td>\n",
       "      <td>1996-07-08</td>\n",
       "      <td>3</td>\n",
       "      <td>670.8</td>\n",
       "      <td>[(22, 16.8, 6, 0.05), (57, 15.6, 15, 0.05), (6...</td>\n",
       "    </tr>\n",
       "    <tr>\n",
       "      <th>4</th>\n",
       "      <td>10252</td>\n",
       "      <td>SUPRD</td>\n",
       "      <td>1996-07-09</td>\n",
       "      <td>3</td>\n",
       "      <td>3730.0</td>\n",
       "      <td>[(33, 2.0, 25, 0.05), (20, 64.8, 40, 0.05), (6...</td>\n",
       "    </tr>\n",
       "    <tr>\n",
       "      <th>5</th>\n",
       "      <td>10253</td>\n",
       "      <td>HANAR</td>\n",
       "      <td>1996-07-10</td>\n",
       "      <td>3</td>\n",
       "      <td>1444.8</td>\n",
       "      <td>[(31, 10.0, 20, 0.0), (49, 16.0, 40, 0.0), (39...</td>\n",
       "    </tr>\n",
       "    <tr>\n",
       "      <th>6</th>\n",
       "      <td>10254</td>\n",
       "      <td>CHOPS</td>\n",
       "      <td>1996-07-11</td>\n",
       "      <td>3</td>\n",
       "      <td>625.2</td>\n",
       "      <td>[(55, 19.2, 21, 0.15), (24, 3.6, 15, 0.15), (7...</td>\n",
       "    </tr>\n",
       "    <tr>\n",
       "      <th>7</th>\n",
       "      <td>10255</td>\n",
       "      <td>RICSU</td>\n",
       "      <td>1996-07-12</td>\n",
       "      <td>4</td>\n",
       "      <td>2490.5</td>\n",
       "      <td>[(16, 13.9, 35, 0.0), (59, 44.0, 30, 0.0), (2,...</td>\n",
       "    </tr>\n",
       "    <tr>\n",
       "      <th>8</th>\n",
       "      <td>10256</td>\n",
       "      <td>WELLI</td>\n",
       "      <td>1996-07-15</td>\n",
       "      <td>2</td>\n",
       "      <td>517.8</td>\n",
       "      <td>[(77, 10.4, 12, 0.0), (53, 26.2, 15, 0.0)]</td>\n",
       "    </tr>\n",
       "    <tr>\n",
       "      <th>9</th>\n",
       "      <td>10257</td>\n",
       "      <td>HILAA</td>\n",
       "      <td>1996-07-16</td>\n",
       "      <td>3</td>\n",
       "      <td>1119.9</td>\n",
       "      <td>[(27, 35.1, 25, 0.0), (77, 10.4, 15, 0.0), (39...</td>\n",
       "    </tr>\n",
       "  </tbody>\n",
       "</table>\n",
       "</div>"
      ],
      "text/plain": [
       "   OrderID CustomerID  OrderDate  cnt  OrderTotal  \\\n",
       "0    10248      VINET 1996-07-04    3       440.0   \n",
       "1    10249      TOMSP 1996-07-05    2      1863.4   \n",
       "2    10250      HANAR 1996-07-08    3      1813.0   \n",
       "3    10251      VICTE 1996-07-08    3       670.8   \n",
       "4    10252      SUPRD 1996-07-09    3      3730.0   \n",
       "5    10253      HANAR 1996-07-10    3      1444.8   \n",
       "6    10254      CHOPS 1996-07-11    3       625.2   \n",
       "7    10255      RICSU 1996-07-12    4      2490.5   \n",
       "8    10256      WELLI 1996-07-15    2       517.8   \n",
       "9    10257      HILAA 1996-07-16    3      1119.9   \n",
       "\n",
       "                                           LineItems  \n",
       "0  [(72, 34.8, 5, 0.0), (42, 9.8, 10, 0.0), (11, ...  \n",
       "1          [(51, 42.4, 40, 0.0), (14, 18.6, 9, 0.0)]  \n",
       "2  [(65, 16.8, 15, 0.15), (51, 42.4, 35, 0.15), (...  \n",
       "3  [(22, 16.8, 6, 0.05), (57, 15.6, 15, 0.05), (6...  \n",
       "4  [(33, 2.0, 25, 0.05), (20, 64.8, 40, 0.05), (6...  \n",
       "5  [(31, 10.0, 20, 0.0), (49, 16.0, 40, 0.0), (39...  \n",
       "6  [(55, 19.2, 21, 0.15), (24, 3.6, 15, 0.15), (7...  \n",
       "7  [(16, 13.9, 35, 0.0), (59, 44.0, 30, 0.0), (2,...  \n",
       "8         [(77, 10.4, 12, 0.0), (53, 26.2, 15, 0.0)]  \n",
       "9  [(27, 35.1, 25, 0.0), (77, 10.4, 15, 0.0), (39...  "
      ]
     },
     "metadata": {},
     "output_type": "display_data"
    }
   ],
   "source": [
    "display(od2)"
   ]
  },
  {
   "cell_type": "code",
   "execution_count": null,
   "metadata": {},
   "outputs": [],
   "source": []
  }
 ],
 "metadata": {
  "colab": {
   "include_colab_link": true,
   "name": "Ch03_SparkSQL.ipynb",
   "provenance": []
  },
  "kernelspec": {
   "display_name": "Python 3",
   "language": "python",
   "name": "python3"
  },
  "language_info": {
   "codemirror_mode": {
    "name": "ipython",
    "version": 3
   },
   "file_extension": ".py",
   "mimetype": "text/x-python",
   "name": "python",
   "nbconvert_exporter": "python",
   "pygments_lexer": "ipython3",
   "version": "3.7.3"
  }
 },
 "nbformat": 4,
 "nbformat_minor": 1
}
