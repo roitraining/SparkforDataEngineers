{
  "nbformat": 4,
  "nbformat_minor": 0,
  "metadata": {
    "kernelspec": {
      "display_name": "Python 3",
      "language": "python",
      "name": "python3"
    },
    "language_info": {
      "codemirror_mode": {
        "name": "ipython",
        "version": 3
      },
      "file_extension": ".py",
      "mimetype": "text/x-python",
      "name": "python",
      "nbconvert_exporter": "python",
      "pygments_lexer": "ipython3",
      "version": "3.7.3"
    },
    "colab": {
      "name": "Ch03_SparkSQL.ipynb",
      "provenance": [],
      "include_colab_link": true
    }
  },
  "cells": [
    {
      "cell_type": "markdown",
      "metadata": {
        "id": "view-in-github",
        "colab_type": "text"
      },
      "source": [
        "<a href=\"https://colab.research.google.com/github/roitraining/SparkforDataEngineers/blob/Development/Ch03_SparkSQL.ipynb\" target=\"_parent\"><img src=\"https://colab.research.google.com/assets/colab-badge.svg\" alt=\"Open In Colab\"/></a>"
      ]
    },
    {
      "cell_type": "markdown",
      "metadata": {
        "id": "VRzVuf1Jjvw_",
        "colab_type": "text"
      },
      "source": [
        "### Open a terminal window and run the following commands:\n",
        "sudo bash\n",
        "start-hadoop\n",
        "cd /home/student/ROI/SparkProgram/Day3\n",
        "./fixhive.sh\n"
      ]
    },
    {
      "cell_type": "markdown",
      "metadata": {
        "id": "1MZuPHFmjvxE",
        "colab_type": "text"
      },
      "source": [
        "### Let's make a simple hive table for regions."
      ]
    },
    {
      "cell_type": "code",
      "metadata": {
        "id": "Gw7WCt1GjvxG",
        "colab_type": "code",
        "colab": {}
      },
      "source": [
        "! cat /home/student/ROI/Spark/regions.hql"
      ],
      "execution_count": 0,
      "outputs": []
    },
    {
      "cell_type": "code",
      "metadata": {
        "id": "sfPR7Z3UjvxK",
        "colab_type": "code",
        "colab": {}
      },
      "source": [
        "import sys\n",
        "sys.path.append('/home/student/ROI/SparkProgram')\n",
        "from initspark import *\n",
        "sc, spark, conf = initspark()"
      ],
      "execution_count": 0,
      "outputs": []
    },
    {
      "cell_type": "markdown",
      "metadata": {
        "id": "ISVSWDXVjvxO",
        "colab_type": "text"
      },
      "source": [
        "### You can query an existing Hive table and bring it into a Spark DataFrame."
      ]
    },
    {
      "cell_type": "code",
      "metadata": {
        "id": "gqn192y6jvxQ",
        "colab_type": "code",
        "colab": {}
      },
      "source": [
        "regions = spark.sql('select * from regions')\n",
        "regions.show()\n",
        "print(regions)"
      ],
      "execution_count": 0,
      "outputs": []
    },
    {
      "cell_type": "markdown",
      "metadata": {
        "id": "6bOc2M8pjvxU",
        "colab_type": "text"
      },
      "source": [
        "### Read in a file to a Spark DataFrame."
      ]
    },
    {
      "cell_type": "code",
      "metadata": {
        "id": "lvKK5WJzjvxW",
        "colab_type": "code",
        "colab": {}
      },
      "source": [
        "territories = spark.read.csv('/home/student/ROI/Spark/datasets/northwind/CSVHeaders/territories', header=True)\n",
        "territories.show()"
      ],
      "execution_count": 0,
      "outputs": []
    },
    {
      "cell_type": "markdown",
      "metadata": {
        "id": "YejFbgM_jvxZ",
        "colab_type": "text"
      },
      "source": [
        "### Use createOrReplaceTempView to create a virtual table in the Hive catalog and then it can be queried using SQL as if it were a hive table."
      ]
    },
    {
      "cell_type": "code",
      "metadata": {
        "id": "8DY_yVNWjvxb",
        "colab_type": "code",
        "colab": {}
      },
      "source": [
        "territories.createOrReplaceTempView('territories')\n",
        "t1 =spark.sql('select * from territories where regionid = 1')\n",
        "t1.show()\n",
        "print(t1.count())"
      ],
      "execution_count": 0,
      "outputs": []
    },
    {
      "cell_type": "markdown",
      "metadata": {
        "id": "0cuO52Zzjvxf",
        "colab_type": "text"
      },
      "source": [
        "### Spark DataFrames can be saved to a Hive table using either the saveAsTable method or writing a SQL query that uses CREATE TABLE AS."
      ]
    },
    {
      "cell_type": "code",
      "metadata": {
        "id": "mU5P_oxAjvxh",
        "colab_type": "code",
        "colab": {}
      },
      "source": [
        "! hadoop fs -rm -r /user/hive/warehouse/territories2\n",
        "! hadoop fs -rm -r /user/hive/warehouse/territories3\n",
        "! hadoop fs -rm -r /user/hive/warehouse/territoryregion\n",
        "\n",
        "territories.write.saveAsTable('Territories2', mode='overwrite')\n",
        "spark.sql('create table Territories3 as select * from territories')"
      ],
      "execution_count": 0,
      "outputs": []
    },
    {
      "cell_type": "markdown",
      "metadata": {
        "id": "Mh-n9ExPjvxl",
        "colab_type": "text"
      },
      "source": [
        "### Queries use standard HQL to mix Hive tables and virtual tables. Both are read into a Spark DataFrame and the processing happens at the Spark level not at the Hive level. HQL is just used to parse the logic into the corresponding Spark methods."
      ]
    },
    {
      "cell_type": "code",
      "metadata": {
        "id": "lhTD011pjvxm",
        "colab_type": "code",
        "colab": {}
      },
      "source": [
        "sql = \"\"\"select r.regionid, r.regionname, t.territoryid, t.territoryname \n",
        "from regions as r \n",
        "join territories as t on r.regionid = t.regionid \n",
        "order by r.regionid, t.territoryid\"\"\"\n",
        "rt = spark.sql(sql)\n",
        "rt.show(10)\n",
        "\n",
        "tr = regions.join(territories, regions.regionid == territories.RegionID). \\\n",
        "     select('regions.regionid', 'regionname', 'TerritoryID', 'TerritoryName')\n",
        "tr.show(10)"
      ],
      "execution_count": 0,
      "outputs": []
    },
    {
      "cell_type": "markdown",
      "metadata": {
        "id": "zIhleFVQjvxq",
        "colab_type": "text"
      },
      "source": [
        "### Lab: Read the northwind JSON products and make it into a TempView and do the same with the CSVHeaders version of categories."
      ]
    },
    {
      "cell_type": "code",
      "metadata": {
        "id": "1W3KqQamjvxr",
        "colab_type": "code",
        "colab": {}
      },
      "source": [
        ""
      ],
      "execution_count": 0,
      "outputs": []
    },
    {
      "cell_type": "markdown",
      "metadata": {
        "id": "w0fxc66Zjvxv",
        "colab_type": "text"
      },
      "source": [
        "### Install the MySQL Python connector. This has nothing to do with Spark but if you want to run SQL queries directly, it is helpful."
      ]
    },
    {
      "cell_type": "code",
      "metadata": {
        "id": "cafLHRpJjvxw",
        "colab_type": "code",
        "colab": {}
      },
      "source": [
        "! pip install mysql-connector-python"
      ],
      "execution_count": 0,
      "outputs": []
    },
    {
      "cell_type": "markdown",
      "metadata": {
        "id": "IYdB-iOyjvx0",
        "colab_type": "text"
      },
      "source": [
        "### Let's make sure we have a database for northwind and no regions table."
      ]
    },
    {
      "cell_type": "code",
      "metadata": {
        "id": "Pmtrb-VAjvx2",
        "colab_type": "code",
        "colab": {}
      },
      "source": [
        "import mysql.connector\n",
        "try:\n",
        "    cn = mysql.connector.connect(host='localhost', user='test', password='password')\n",
        "    cursor = cn.cursor()\n",
        "    cursor.execute('create database if not exists northwind')\n",
        "    cn.close()\n",
        "\n",
        "    cn = mysql.connector.connect(host='localhost', user='test', password='password', database='northwind')\n",
        "    cursor = cn.cursor()    \n",
        "    cursor.execute('drop table if exists regions')\n",
        "    cn.close()\n",
        "except:\n",
        "    print('something went wrong')\n",
        "else:\n",
        "    print('success')\n",
        "\n"
      ],
      "execution_count": 0,
      "outputs": []
    },
    {
      "cell_type": "markdown",
      "metadata": {
        "id": "N36mOVI-jvx6",
        "colab_type": "text"
      },
      "source": [
        "### Write a DataFrame to a SQL database."
      ]
    },
    {
      "cell_type": "code",
      "metadata": {
        "id": "u666dY6gjvx7",
        "colab_type": "code",
        "colab": {}
      },
      "source": [
        "regions.write.format(\"jdbc\").options(url=\"jdbc:mysql://localhost/northwind\", driver='com.mysql.jdbc.Driver', dbtable='regions', user='test', password = \"password\", mode = \"append\", useSSL = \"false\").save()\n"
      ],
      "execution_count": 0,
      "outputs": []
    },
    {
      "cell_type": "markdown",
      "metadata": {
        "id": "qTyFO5Exjvx_",
        "colab_type": "text"
      },
      "source": [
        "### Read a SQL table into a Spark DataFrame."
      ]
    },
    {
      "cell_type": "code",
      "metadata": {
        "id": "vVi4NdT0jvyA",
        "colab_type": "code",
        "colab": {}
      },
      "source": [
        "regions2 = spark.read.format(\"jdbc\").options(url=\"jdbc:mysql://localhost/northwind\", driver=\"com.mysql.jdbc.Driver\", dbtable= \"regions\", user=\"test\", password=\"password\").load()\n",
        "regions2.show()\n"
      ],
      "execution_count": 0,
      "outputs": []
    },
    {
      "cell_type": "markdown",
      "metadata": {
        "id": "kNfDRz36jvyF",
        "colab_type": "text"
      },
      "source": [
        "### Creating the regions2 DataFrame does not execute anything yet, but by making the DataFrame into a Temp View then running a Spark SQL query, it tells Spark to read the SQL data into a DataFrame and then use the cluster to do the processing, not the SQL source."
      ]
    },
    {
      "cell_type": "code",
      "metadata": {
        "id": "ROA9gHJ9jvyG",
        "colab_type": "code",
        "colab": {}
      },
      "source": [
        "regions2.createOrReplaceTempView('regions2')\n",
        "spark.sql('select * from regions2 where regionid < 3').show()"
      ],
      "execution_count": 0,
      "outputs": []
    },
    {
      "cell_type": "markdown",
      "metadata": {
        "id": "uY5szGj1jvyJ",
        "colab_type": "text"
      },
      "source": [
        "### Alternate ways to code a query using SQL and methods."
      ]
    },
    {
      "cell_type": "code",
      "metadata": {
        "id": "TumW8dZpjvyK",
        "colab_type": "code",
        "colab": {}
      },
      "source": [
        "print(spark.sql('select count(*) from regions').collect())\n",
        "spark.sql('select * from regions').count()"
      ],
      "execution_count": 0,
      "outputs": []
    },
    {
      "cell_type": "markdown",
      "metadata": {
        "id": "aNL1sa6ljvyN",
        "colab_type": "text"
      },
      "source": [
        "### Using SQL you can use familiar syntax instead of withColumn or withCoumnRenamed methods."
      ]
    },
    {
      "cell_type": "code",
      "metadata": {
        "id": "O8HXp3WzjvyP",
        "colab_type": "code",
        "colab": {}
      },
      "source": [
        "t1 = spark.sql('select TerritoryID as TerrID, UPPER(TerritoryName) as TerritoryName, RegionID from territories')\n",
        "t1.show(5)\n",
        "\n",
        "from pyspark.sql.functions import expr\n",
        "territories.withColumn('TerritoryName', expr('UPPER(TerritoryName)')).withColumnRenamed('TerritoryID', 'TerrID').show(5)"
      ],
      "execution_count": 0,
      "outputs": []
    },
    {
      "cell_type": "markdown",
      "metadata": {
        "id": "hXOWeUhCjvyT",
        "colab_type": "text"
      },
      "source": [
        "### Sometimes there is a function in Python that doesn't exist in SQL and it would be helpful to use, so you could make a udf and use withColumn."
      ]
    },
    {
      "cell_type": "code",
      "metadata": {
        "id": "V7aDNl6GjvyU",
        "colab_type": "code",
        "colab": {}
      },
      "source": [
        "from pyspark.sql.functions import expr, udf\n",
        "from pyspark.sql.types import *\n",
        "\n",
        "t2 = spark.sql('select * from territories')\n",
        "t2.printSchema()\n",
        "#t2.show()\n",
        "t2 = t2.withColumn('upperName', expr('UPPER(TerritoryName)'))\n",
        "t2.show(5)\n",
        "\n",
        "t2 = t2.withColumn('titleName', udf(lambda x : x.title(), StringType())(t2.upperName))\n",
        "t2.show(5)\n"
      ],
      "execution_count": 0,
      "outputs": []
    },
    {
      "cell_type": "markdown",
      "metadata": {
        "id": "9Hyt_WXFjvyh",
        "colab_type": "text"
      },
      "source": [
        "### To make it easier though, you could make the Python function into a udf that SQL can understand similar to how you can make a DataFrame seem like a virtual table with createOrReplaceTempView."
      ]
    },
    {
      "cell_type": "code",
      "metadata": {
        "id": "pKyjaetvjvyl",
        "colab_type": "code",
        "colab": {}
      },
      "source": [
        "def reverseString(x):\n",
        "    return x[::-1]\n",
        "\n",
        "spark.udf.register('reverse', reverseString, StringType())\n",
        "\n",
        "spark.sql('select *, reverse(TerritoryName) as Reversed from Territories').orderBy('Reversed').show()"
      ],
      "execution_count": 0,
      "outputs": []
    },
    {
      "cell_type": "markdown",
      "metadata": {
        "id": "SvgexA38jvyq",
        "colab_type": "text"
      },
      "source": [
        "### HQL has collect_set and collect_list functions to aggregate items into a list instead of summing them up. "
      ]
    },
    {
      "cell_type": "code",
      "metadata": {
        "scrolled": true,
        "id": "VO1-BX2Yjvyt",
        "colab_type": "code",
        "colab": {}
      },
      "source": [
        "from pyspark.sql.functions import collect_list\n",
        "territories.groupBy(territories.RegionID).agg(collect_list(territories.TerritoryName)).show()\n",
        "\n",
        "tr1 = spark.sql(\"SELECT RegionID, collect_list(TerritoryName) AS TerritoryList FROM Territories GROUP BY RegionID\")\n",
        "tr1.show()\n",
        "tr1.printSchema()\n",
        "print(tr1.take(1))\n"
      ],
      "execution_count": 0,
      "outputs": []
    },
    {
      "cell_type": "markdown",
      "metadata": {
        "id": "bER0vib7jvyw",
        "colab_type": "text"
      },
      "source": [
        "### Instead of a simple datatype you could also collect complex structured objects using the HQL NAMED_STRUCT."
      ]
    },
    {
      "cell_type": "code",
      "metadata": {
        "id": "EBw7Xyphjvyx",
        "colab_type": "code",
        "colab": {}
      },
      "source": [
        "\n",
        "sql = \"\"\"SELECT r.RegionID, r.RegionName\n",
        ", COLLECT_SET(NAMED_STRUCT(\"TerritoryID\", TerritoryID, \"TerritoryName\", TerritoryName)) AS TerritoryList\n",
        "FROM Regions AS r\n",
        "JOIN Territories AS t ON r.RegionID = t.RegionID\n",
        "GROUP BY r.RegionID, r.RegionName\n",
        "ORDER BY r.RegionID\"\"\"\n",
        "\n",
        "tr2 = spark.sql(sql)\n",
        "tr2.printSchema()\n",
        "print(tr2)\n",
        "tr2.show()\n",
        "print(tr2.take(2))\n",
        "tr2.write.json('TerritoryRegion.json')\n",
        "spark.sql('create table TerritoryRegion as ' + sql)"
      ],
      "execution_count": 0,
      "outputs": []
    },
    {
      "cell_type": "markdown",
      "metadata": {
        "id": "QFruFeUfjvy5",
        "colab_type": "text"
      },
      "source": [
        "### If you have data that is already collected into a complex datatype and want to flatten it, you could use HQL EXPLODE function."
      ]
    },
    {
      "cell_type": "markdown",
      "metadata": {
        "id": "PrFANoYojvy6",
        "colab_type": "text"
      },
      "source": [
        "### You could use the Spark explode method."
      ]
    },
    {
      "cell_type": "code",
      "metadata": {
        "id": "UFsijdUfjvy7",
        "colab_type": "code",
        "colab": {}
      },
      "source": [
        "from pyspark.sql.functions import explode\n",
        "tr1.select('RegionID', explode('TerritoryList')).show()"
      ],
      "execution_count": 0,
      "outputs": []
    },
    {
      "cell_type": "markdown",
      "metadata": {
        "id": "pBKRyK65jvy-",
        "colab_type": "text"
      },
      "source": [
        "### Or if the DataFrame is turned into a Temp View, you could use the HQL query to do it."
      ]
    },
    {
      "cell_type": "code",
      "metadata": {
        "id": "1u96Thbgjvy_",
        "colab_type": "code",
        "colab": {}
      },
      "source": [
        "tr1.createOrReplaceTempView('RegionTerritories')\n",
        "sql = \"\"\"SELECT RegionID, TerritoryName\n",
        "FROM RegionTerritories\n",
        "LATERAL VIEW EXPLODE(TerritoryList) EXPLODED_TABLE AS TerritoryName\n",
        "ORDER BY RegionID, TerritoryName\n",
        "\"\"\"\n",
        "spark.sql(sql).show()"
      ],
      "execution_count": 0,
      "outputs": []
    },
    {
      "cell_type": "markdown",
      "metadata": {
        "id": "Grkd6ghFjvzC",
        "colab_type": "text"
      },
      "source": [
        "### Or you could select specific elements from a collection."
      ]
    },
    {
      "cell_type": "code",
      "metadata": {
        "id": "wwtqHRLijvzD",
        "colab_type": "code",
        "colab": {}
      },
      "source": [
        "tr2.createOrReplaceTempView('RegionTerritories')\n",
        "spark.sql(\"select RegionId, RegionName, TerritoryList[0] as First, TerritoryList[size(TerritoryList) - 1] as Last, size(TerritoryList) as TerritoryCount from RegionTerritories\").show()"
      ],
      "execution_count": 0,
      "outputs": []
    },
    {
      "cell_type": "markdown",
      "metadata": {
        "id": "WXZWzUozjvzG",
        "colab_type": "text"
      },
      "source": [
        "### If the array is of structs note the syntax of fetching the elements from the struct uses the . like an object property."
      ]
    },
    {
      "cell_type": "code",
      "metadata": {
        "id": "jf9WqBvnjvzH",
        "colab_type": "code",
        "colab": {}
      },
      "source": [
        "sql = \"\"\"SELECT RegionID, RegionName, Territory.TerritoryID AS TerritoryID\n",
        ", Territory.TerritoryName AS TerritoryName\n",
        "FROM RegionTerritories\n",
        "LATERAL VIEW EXPLODE(TerritoryList) EXPLODED_TABLE AS Territory\n",
        "\"\"\"\n",
        "spark.sql(sql).show()"
      ],
      "execution_count": 0,
      "outputs": []
    },
    {
      "cell_type": "markdown",
      "metadata": {
        "id": "Mi0Wyy8rjvzM",
        "colab_type": "text"
      },
      "source": [
        "### Homework ##\n",
        "\n",
        "**First Challenge**\n",
        "\n",
        "Create a Python function to determine if a number is odd or even and use that to select only the even numbered shippers from the TSV folder of northwind. Note the TSV file does not have headers so you will need to do something to make the DataFrame have a meaningful structure. I would suggest using SparkSql as much as possible to rename and cast the columns which are ShipperID, CompanyName and Phone.\n",
        "\n",
        "**Second Challenge**\n",
        "\n",
        "Take the Order_LineItems.json folder, read it into a DataFrame, and flatten it and then calculate the average price paid for a product.\n",
        "\n"
      ]
    },
    {
      "cell_type": "code",
      "metadata": {
        "id": "KBcR1OCOjvzN",
        "colab_type": "code",
        "colab": {}
      },
      "source": [
        "# Read the following code and see how it will shape order line items into the order header record\n",
        "# You will use the result of this saved file for the second challenge\n",
        "o = spark.read.csv('/home/student/ROI/Spark/datasets/northwind/CSVHeaders/orders', header = True, inferSchema = True)\n",
        "od = spark.read.csv('/home/student/ROI/Spark/datasets/northwind/CSVHeaders/orderdetails', header = True, inferSchema = True)\n",
        "\n",
        "o.createOrReplaceTempView('Orders')\n",
        "od.createOrReplaceTempView('OrderDetails')\n",
        "sql = \"\"\"\n",
        "select o.OrderID, o.CustomerID, o.OrderDate\n",
        "           , COLLECT_SET(NAMED_STRUCT(\"ProductID\", od.ProductID, \n",
        "                                      \"UnitPrice\", od.UnitPrice,\n",
        "                                      \"Quantity\", od.Quantity,\n",
        "                                      \"Discount\", od.discount)) as LineItems\n",
        "from Orders as o join OrderDetails as od on o.OrderID = od.OrderID\n",
        "GROUP BY o.OrderID, o.CustomerID, o.OrderDate\n",
        "ORDER BY o.OrderID\"\"\"\n",
        "od2 = spark.sql(sql)\n",
        "od2.write.json('Orders_LineItems.json')\n",
        "\n"
      ],
      "execution_count": 0,
      "outputs": []
    }
  ]
}