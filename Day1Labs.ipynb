{
  "nbformat": 4,
  "nbformat_minor": 0,
  "metadata": {
    "kernelspec": {
      "display_name": "Python 3",
      "language": "python",
      "name": "python3"
    },
    "language_info": {
      "codemirror_mode": {
        "name": "ipython",
        "version": 3
      },
      "file_extension": ".py",
      "mimetype": "text/x-python",
      "name": "python",
      "nbconvert_exporter": "python",
      "pygments_lexer": "ipython3",
      "version": "3.7.3"
    },
    "colab": {
      "name": "Day1Labs.ipynb",
      "version": "0.3.2",
      "provenance": []
    }
  },
  "cells": [
    {
      "cell_type": "code",
      "metadata": {
        "id": "lz5zGzS19FSM",
        "colab_type": "code",
        "colab": {}
      },
      "source": [
        "import sys\n",
        "sys.path.append('/home/student/ROI/SparkProgram')\n",
        "from initspark import *\n",
        "sc, spark, conf = initspark()\n"
      ],
      "execution_count": 0,
      "outputs": []
    },
    {
      "cell_type": "markdown",
      "metadata": {
        "id": "NOnjzU-69FSP",
        "colab_type": "text"
      },
      "source": [
        "LAB: Put the regions folder found in /home/student/ROI/SparkProgram/datasets/northwind/CSV/regions into HDFS. Read it into an RDD and convert it into a tuple shape"
      ]
    },
    {
      "cell_type": "code",
      "metadata": {
        "id": "H1Sdl9BG9FSQ",
        "colab_type": "code",
        "colab": {}
      },
      "source": [
        "! hadoop fs -put /home/student/ROI/SparkProgram/datasets/northwind/CSV/regions /regions"
      ],
      "execution_count": 0,
      "outputs": []
    },
    {
      "cell_type": "code",
      "metadata": {
        "id": "OPiYiVSb9FST",
        "colab_type": "code",
        "colab": {},
        "outputId": "77edd26d-5523-4318-ba33-c5209074e74f"
      },
      "source": [
        "regions = sc.textFile('hdfs://localhost:9000/regions')\n",
        "regions = regions.map(lambda x : x.split(',')).map(lambda x : (int(x[0]), x[1]))\n",
        "print (regions.collect())"
      ],
      "execution_count": 0,
      "outputs": [
        {
          "output_type": "stream",
          "text": [
            "[(1, 'Eastern'), (2, 'Western'), (3, 'Northern'), (4, 'Southern')]\n"
          ],
          "name": "stdout"
        }
      ]
    },
    {
      "cell_type": "markdown",
      "metadata": {
        "id": "Ht10I0k49FSY",
        "colab_type": "text"
      },
      "source": [
        "LAB: Try to sort region by name and descending order by ID"
      ]
    },
    {
      "cell_type": "code",
      "metadata": {
        "id": "PjlrIziN9FSY",
        "colab_type": "code",
        "colab": {},
        "outputId": "2fdba060-280c-452f-b65f-e1099c76e6a6"
      },
      "source": [
        "print (regions.sortByKey(ascending = False).collect())"
      ],
      "execution_count": 0,
      "outputs": [
        {
          "output_type": "stream",
          "text": [
            "[(4, 'Southern'), (3, 'Northern'), (2, 'Western'), (1, 'Eastern')]\n"
          ],
          "name": "stdout"
        }
      ]
    },
    {
      "cell_type": "code",
      "metadata": {
        "id": "aHPC3Z6P9FSc",
        "colab_type": "code",
        "colab": {},
        "outputId": "e654c53a-10fc-4474-b7bb-a725611cfb47"
      },
      "source": [
        "print (regions.sortBy(lambda x : x[1]).collect())"
      ],
      "execution_count": 0,
      "outputs": [
        {
          "output_type": "stream",
          "text": [
            "[(1, 'Eastern'), (3, 'Northern'), (4, 'Southern'), (2, 'Western')]\n"
          ],
          "name": "stdout"
        }
      ]
    },
    {
      "cell_type": "markdown",
      "metadata": {
        "id": "nrB9sKyp9FSf",
        "colab_type": "text"
      },
      "source": [
        "LAB: Load territories into HDFS and join it to regions"
      ]
    },
    {
      "cell_type": "code",
      "metadata": {
        "id": "Xj07HK3v9FSg",
        "colab_type": "code",
        "colab": {}
      },
      "source": [
        "! hadoop fs -put /home/student/ROI/SparkProgram/datasets/northwind/CSV/territories /territories"
      ],
      "execution_count": 0,
      "outputs": []
    },
    {
      "cell_type": "code",
      "metadata": {
        "id": "hPDtcXt59FSk",
        "colab_type": "code",
        "colab": {},
        "outputId": "2031d688-4a86-4135-d137-1b38e4f62814"
      },
      "source": [
        "territories = sc.textFile('hdfs://localhost:9000/territories')\n",
        "territories = territories.map(lambda x : x.split(',')).map(lambda x : (int(x[0]), x[1], int(x[2])))\n",
        "print (territories.collect())"
      ],
      "execution_count": 0,
      "outputs": [
        {
          "output_type": "stream",
          "text": [
            "[(1581, 'Westboro', 1), (1730, 'Bedford', 1), (1833, 'Georgetow', 1), (2116, 'Boston', 1), (2139, 'Cambridge', 1), (2184, 'Braintree', 1), (2903, 'Providence', 1), (3049, 'Hollis', 3), (3801, 'Portsmouth', 3), (6897, 'Wilton', 1), (7960, 'Morristown', 1), (8837, 'Edison', 1), (10019, 'New York', 1), (10038, 'New York', 1), (11747, 'Mellvile', 1), (14450, 'Fairport', 1), (19428, 'Philadelphia', 3), (19713, 'Neward', 1), (20852, 'Rockville', 1), (27403, 'Greensboro', 1), (27511, 'Cary', 1), (29202, 'Columbia', 4), (30346, 'Atlanta', 4), (31406, 'Savannah', 4), (32859, 'Orlando', 4), (33607, 'Tampa', 4), (40222, 'Louisville', 1), (44122, 'Beachwood', 3), (45839, 'Findlay', 3), (48075, 'Southfield', 3), (48084, 'Troy', 3), (48304, 'Bloomfield Hills', 3), (53404, 'Racine', 3), (55113, 'Roseville', 3), (55439, 'Minneapolis', 3), (60179, 'Hoffman Estates', 2), (60601, 'Chicago', 2), (72716, 'Bentonville', 4), (75234, 'Dallas', 4), (78759, 'Austin', 4), (80202, 'Denver', 2), (80909, 'Colorado Springs', 2), (85014, 'Phoenix', 2), (85251, 'Scottsdale', 2), (90405, 'Santa Monica', 2), (94025, 'Menlo Park', 2), (94105, 'San Francisco', 2), (95008, 'Campbell', 2), (95054, 'Santa Clara', 2), (95060, 'Santa Cruz', 2), (98004, 'Bellevue', 2), (98052, 'Redmond', 2), (98104, 'Seattle', 2)]\n"
          ],
          "name": "stdout"
        }
      ]
    },
    {
      "cell_type": "code",
      "metadata": {
        "id": "p4LESVJJ9FSm",
        "colab_type": "code",
        "colab": {},
        "outputId": "6f1fde71-487b-4fc7-8092-818eec8a54fc"
      },
      "source": [
        "region_territories = regions.join(territories.map(lambda x : (x[2], (x[0],x[1]))))\n",
        "#print (region_territories.collect())\n",
        "region_territories = region_territories.map(lambda x : (x[0], (x[1][0], *x[1][1])))\n",
        "print (region_territories.collect())\n"
      ],
      "execution_count": 0,
      "outputs": [
        {
          "output_type": "stream",
          "text": [
            "[(2, ('Western', 60179, 'Hoffman Estates')), (2, ('Western', 60601, 'Chicago')), (2, ('Western', 80202, 'Denver')), (2, ('Western', 80909, 'Colorado Springs')), (2, ('Western', 85014, 'Phoenix')), (2, ('Western', 85251, 'Scottsdale')), (2, ('Western', 90405, 'Santa Monica')), (2, ('Western', 94025, 'Menlo Park')), (2, ('Western', 94105, 'San Francisco')), (2, ('Western', 95008, 'Campbell')), (2, ('Western', 95054, 'Santa Clara')), (2, ('Western', 95060, 'Santa Cruz')), (2, ('Western', 98004, 'Bellevue')), (2, ('Western', 98052, 'Redmond')), (2, ('Western', 98104, 'Seattle')), (4, ('Southern', 29202, 'Columbia')), (4, ('Southern', 30346, 'Atlanta')), (4, ('Southern', 31406, 'Savannah')), (4, ('Southern', 32859, 'Orlando')), (4, ('Southern', 33607, 'Tampa')), (4, ('Southern', 72716, 'Bentonville')), (4, ('Southern', 75234, 'Dallas')), (4, ('Southern', 78759, 'Austin')), (1, ('Eastern', 1581, 'Westboro')), (1, ('Eastern', 1730, 'Bedford')), (1, ('Eastern', 1833, 'Georgetow')), (1, ('Eastern', 2116, 'Boston')), (1, ('Eastern', 2139, 'Cambridge')), (1, ('Eastern', 2184, 'Braintree')), (1, ('Eastern', 2903, 'Providence')), (1, ('Eastern', 6897, 'Wilton')), (1, ('Eastern', 7960, 'Morristown')), (1, ('Eastern', 8837, 'Edison')), (1, ('Eastern', 10019, 'New York')), (1, ('Eastern', 10038, 'New York')), (1, ('Eastern', 11747, 'Mellvile')), (1, ('Eastern', 14450, 'Fairport')), (1, ('Eastern', 19713, 'Neward')), (1, ('Eastern', 20852, 'Rockville')), (1, ('Eastern', 27403, 'Greensboro')), (1, ('Eastern', 27511, 'Cary')), (1, ('Eastern', 40222, 'Louisville')), (3, ('Northern', 3049, 'Hollis')), (3, ('Northern', 3801, 'Portsmouth')), (3, ('Northern', 19428, 'Philadelphia')), (3, ('Northern', 44122, 'Beachwood')), (3, ('Northern', 45839, 'Findlay')), (3, ('Northern', 48075, 'Southfield')), (3, ('Northern', 48084, 'Troy')), (3, ('Northern', 48304, 'Bloomfield Hills')), (3, ('Northern', 53404, 'Racine')), (3, ('Northern', 55113, 'Roseville')), (3, ('Northern', 55439, 'Minneapolis'))]\n"
          ],
          "name": "stdout"
        }
      ]
    },
    {
      "cell_type": "markdown",
      "metadata": {
        "id": "wkmZI_Cr9FSp",
        "colab_type": "text"
      },
      "source": [
        "LAB: Use the territories RDD to count how many territories are in each region. Display the results in regionID order and then descending order based on the counts"
      ]
    },
    {
      "cell_type": "code",
      "metadata": {
        "id": "47Uo0ZmD9FSr",
        "colab_type": "code",
        "colab": {},
        "outputId": "65b8504e-4ac1-40d9-9fc5-8a5be0204e5b"
      },
      "source": [
        "region_count = territories.map(lambda x : (x[2], 1)).reduceByKey(lambda x, y: x + y)\n",
        "print(region_count.sortByKey().collect())"
      ],
      "execution_count": 0,
      "outputs": [
        {
          "output_type": "stream",
          "text": [
            "[(1, 19), (2, 15), (3, 11), (4, 8)]\n"
          ],
          "name": "stdout"
        }
      ]
    },
    {
      "cell_type": "code",
      "metadata": {
        "id": "n-w8uWom9FSx",
        "colab_type": "code",
        "colab": {},
        "outputId": "9cbd708a-654a-41e1-e08b-1b787b3d6f43"
      },
      "source": [
        "print(region_count.sortBy(lambda x : x[1], ascending = False).collect())"
      ],
      "execution_count": 0,
      "outputs": [
        {
          "output_type": "stream",
          "text": [
            "[(1, 19), (2, 15), (3, 11), (4, 8)]\n"
          ],
          "name": "stdout"
        }
      ]
    },
    {
      "cell_type": "code",
      "metadata": {
        "id": "VAnAvET39FS0",
        "colab_type": "code",
        "colab": {}
      },
      "source": [
        ""
      ],
      "execution_count": 0,
      "outputs": []
    }
  ]
}