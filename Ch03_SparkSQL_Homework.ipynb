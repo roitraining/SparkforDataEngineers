{
  "nbformat": 4,
  "nbformat_minor": 0,
  "metadata": {
    "kernelspec": {
      "display_name": "Python 3",
      "language": "python",
      "name": "python3"
    },
    "language_info": {
      "codemirror_mode": {
        "name": "ipython",
        "version": 3
      },
      "file_extension": ".py",
      "mimetype": "text/x-python",
      "name": "python",
      "nbconvert_exporter": "python",
      "pygments_lexer": "ipython3",
      "version": "3.7.3"
    },
    "colab": {
      "name": "Ch03_SparkSQL_Homework.ipynb",
      "provenance": [],
      "include_colab_link": true
    }
  },
  "cells": [
    {
      "cell_type": "markdown",
      "metadata": {
        "id": "view-in-github",
        "colab_type": "text"
      },
      "source": [
        "<a href=\"https://colab.research.google.com/github/roitraining/SparkforDataEngineers/blob/Development/Ch03_SparkSQL_Homework.ipynb\" target=\"_parent\"><img src=\"https://colab.research.google.com/assets/colab-badge.svg\" alt=\"Open In Colab\"/></a>"
      ]
    },
    {
      "cell_type": "code",
      "metadata": {
        "id": "6TRqRWvfo2Ca",
        "colab_type": "code",
        "colab": {}
      },
      "source": [
        "import sys\n",
        "sys.path.append('/home/student/ROI/Spark')\n",
        "from initspark import *\n",
        "sc, spark, conf = initspark()"
      ],
      "execution_count": 0,
      "outputs": []
    },
    {
      "cell_type": "markdown",
      "metadata": {
        "id": "86l8gEeNo2Ck",
        "colab_type": "text"
      },
      "source": [
        "### Homework ##\n",
        "\n",
        "####First Challenge\n",
        "Create a Python function to determine if a number is odd or even and use that to select only the even numbered shippers from the TSV folder of northwind. Note the TSV file does not have headers so you will need to do something to make the DataFrame have a meaningful structure. I would suggest using SparkSql as much as possible to rename and cast the columns which are ShipperID, CompanyName, and Phone.\n",
        "\n",
        "####Second Challenge\n",
        "Take the Order_LineItems.json folder, read it into a DataFrame, and flatten it and then calculate the average price paid for a product.\n"
      ]
    },
    {
      "cell_type": "code",
      "metadata": {
        "id": "89KqfEFQo2Cl",
        "colab_type": "code",
        "colab": {}
      },
      "source": [
        "o = spark.read.csv('/home/student/ROI/Spark/datasets/northwind/CSVHeaders/orders', header = True, inferSchema = True)\n",
        "od = spark.read.csv('/home/student/ROI/Spark/datasets/northwind/CSVHeaders/orderdetails', header = True, inferSchema = True)\n",
        "\n",
        "o.createOrReplaceTempView('Orders')\n",
        "od.createOrReplaceTempView('OrderDetails')\n",
        "sql = \"\"\"\n",
        "select o.OrderID, o.CustomerID, o.OrderDate\n",
        "           , COLLECT_SET(NAMED_STRUCT(\"ProductID\", od.ProductID, \n",
        "                                      \"UnitPrice\", od.UnitPrice,\n",
        "                                      \"Quantity\", od.Quantity,\n",
        "                                      \"Discount\", od.discount)) as LineItems\n",
        "from Orders as o join OrderDetails as od on o.OrderID = od.OrderID\n",
        "GROUP BY o.OrderID, o.CustomerID, o.OrderDate\n",
        "ORDER BY o.OrderID\"\"\"\n",
        "od2 = spark.sql(sql)\n",
        "od2.write.json('Orders_LineItems.json')\n",
        "\n"
      ],
      "execution_count": 0,
      "outputs": []
    },
    {
      "cell_type": "code",
      "metadata": {
        "id": "VAb6t5Xao2Cq",
        "colab_type": "code",
        "colab": {}
      },
      "source": [
        "shippers = spark.read.csv('/home/student/ROI/Spark/datasets/northwind/TSV/shippers', header=False, sep = '\\t')\n",
        "#shippers.show()\n",
        "print(shippers)\n",
        "shippers.createOrReplaceTempView('shippers')\n",
        "print(shippers.collect())\n",
        "shippers = spark.sql('select cast(_c0 as int) as ShipperID, _c1 as ShipperName, _c2 as Phone from shippers')\n",
        "shippers.createOrReplaceTempView('shippers')\n",
        "print(shippers)\n",
        "\n",
        "def isEven(x):\n",
        "    return x % 2 == 0\n",
        "\n",
        "from pyspark.sql.functions import udf\n",
        "from pyspark.sql.types import *\n",
        "\n",
        "spark.udf.register('isEven', isEven, BooleanType())\n",
        "\n",
        "spark.sql('select * FROM Shippers WHERE isEven(ShipperID)').show()\n"
      ],
      "execution_count": 0,
      "outputs": []
    },
    {
      "cell_type": "code",
      "metadata": {
        "id": "yrZXzt4wo2Cu",
        "colab_type": "code",
        "colab": {}
      },
      "source": [
        "o = spark.read.json('/home/student/ROI/Spark/Orders_LineItems.json')\n",
        "o.createOrReplaceTempView('Orders')\n",
        "sql = '''select OrderId, CustomerID, OrderDate, l.ProductID, l.UnitPrice, l.Quantity, l.Discount\n",
        "FROM Orders LATERAL VIEW EXPLODE(LineItems) EXPLODED_TABLE AS l\n",
        "'''\n",
        "o2 = spark.sql(sql)\n",
        "o2.show()\n",
        "o2.createOrReplaceTempView('FlatOrders')\n",
        "spark.sql('select avg(UnitPrice) from FlatOrders').show()\n"
      ],
      "execution_count": 0,
      "outputs": []
    },
    {
      "cell_type": "code",
      "metadata": {
        "id": "AC_U43JHo2Cy",
        "colab_type": "code",
        "colab": {}
      },
      "source": [
        ""
      ],
      "execution_count": 0,
      "outputs": []
    }
  ]
}