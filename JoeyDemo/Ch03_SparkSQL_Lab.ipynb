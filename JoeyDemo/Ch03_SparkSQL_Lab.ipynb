{
 "cells": [
  {
   "cell_type": "markdown",
   "metadata": {
    "colab_type": "text",
    "id": "view-in-github"
   },
   "source": [
    "<a href=\"https://colab.research.google.com/github/roitraining/SparkforDataEngineers/blob/Development/Ch03_SparkSQL_Lab.ipynb\" target=\"_parent\"><img src=\"https://colab.research.google.com/assets/colab-badge.svg\" alt=\"Open In Colab\"/></a>"
   ]
  },
  {
   "cell_type": "code",
   "execution_count": 1,
   "metadata": {
    "colab": {},
    "colab_type": "code",
    "id": "j-1XNMUZpgnJ"
   },
   "outputs": [],
   "source": [
    "import sys\n",
    "sys.path.append('/home/student/ROI/Spark')\n",
    "from initspark import *\n",
    "sc, spark, conf = initspark()"
   ]
  },
  {
   "cell_type": "markdown",
   "metadata": {
    "colab_type": "text",
    "id": "0gItUluIpgnW"
   },
   "source": [
    "### *LAB:* Read the northwind JSON products and make it into a TempView and do the same with the CSVHeaders version of categories."
   ]
  },
  {
   "cell_type": "code",
   "execution_count": 2,
   "metadata": {
    "colab": {},
    "colab_type": "code",
    "id": "Nqvp-9ZOpgnX"
   },
   "outputs": [
    {
     "name": "stdout",
     "output_type": "stream",
     "text": [
      "DataFrame[CategoryID: int, CategoryName: string, Description: string]\n",
      "+----------+--------------+--------------------+\n",
      "|CategoryID|  CategoryName|         Description|\n",
      "+----------+--------------+--------------------+\n",
      "|         1|     Beverages|Soft drinks coffe...|\n",
      "|         2|    Condiments|Sweet and savory ...|\n",
      "|         3|   Confections|Desserts candies ...|\n",
      "|         4|Dairy Products|             Cheeses|\n",
      "|         5|Grains/Cereals|Breads crackers p...|\n",
      "|         6|  Meat/Poultry|      Prepared meats|\n",
      "|         7|       Produce|Dried fruit and b...|\n",
      "|         8|       Seafood|    Seaweed and fish|\n",
      "+----------+--------------+--------------------+\n",
      "\n"
     ]
    }
   ],
   "source": [
    "categories = spark.read.csv('/home/student/ROI/Spark/datasets/northwind/CSVHeaders/categories', header=True, inferSchema = True)\n",
    "print(categories)\n",
    "categories.show(10)\n",
    "categories.createOrReplaceTempView('categories') \n"
   ]
  },
  {
   "cell_type": "code",
   "execution_count": 3,
   "metadata": {
    "colab": {},
    "colab_type": "code",
    "id": "Jt_RLpEupgnb"
   },
   "outputs": [
    {
     "name": "stdout",
     "output_type": "stream",
     "text": [
      "DataFrame[categoryid: bigint, discontinued: bigint, productid: bigint, productname: string, quantityperunit: string, reorderlevel: bigint, supplierid: bigint, unitprice: double, unitsinstock: bigint, unitsonorder: bigint]\n",
      "+----------+------------+---------+--------------------+--------------------+------------+----------+---------+------------+------------+\n",
      "|categoryid|discontinued|productid|         productname|     quantityperunit|reorderlevel|supplierid|unitprice|unitsinstock|unitsonorder|\n",
      "+----------+------------+---------+--------------------+--------------------+------------+----------+---------+------------+------------+\n",
      "|         1|           1|        1|                Chai|  10 boxes x 30 bags|          10|         8|     18.0|          39|           0|\n",
      "|         1|           1|        2|               Chang|  24 - 12 oz bottles|          25|         1|     19.0|          17|          40|\n",
      "|         2|           0|        3|       Aniseed Syrup| 12 - 550 ml bottles|          25|         1|     10.0|          13|          70|\n",
      "|         2|           0|        4|Chef Anton's Caju...|      48 - 6 oz jars|           0|         2|     22.0|          53|           0|\n",
      "|         2|           1|        5|Chef Anton's Gumb...|            36 boxes|           0|         2|    21.35|           0|           0|\n",
      "|         2|           0|        6|Grandma's Boysenb...|      12 - 8 oz jars|          25|         3|     25.0|         120|           0|\n",
      "|         7|           0|        7|Uncle Bob's Organ...|     12 - 1 lb pkgs.|          10|         3|     30.0|          15|           0|\n",
      "|         2|           0|        8|Northwoods Cranbe...|     12 - 12 oz jars|           0|         3|     40.0|           6|           0|\n",
      "|         6|           1|        9|     Mishi Kobe Niku|    18 - 500 g pkgs.|           0|         4|     97.0|          29|           0|\n",
      "|         8|           0|       10|               Ikura|    12 - 200 ml jars|           0|         4|     31.0|          31|           0|\n",
      "|         4|           0|       11|      Queso Cabrales|           1 kg pkg.|          30|         5|     21.0|          22|          30|\n",
      "|         4|           0|       12|Queso Manchego La...|    10 - 500 g pkgs.|           0|         5|     38.0|          86|           0|\n",
      "|         8|           0|       13|               Konbu|            2 kg box|           5|         6|      6.0|          24|           0|\n",
      "|         7|           0|       14|                Tofu|    40 - 100 g pkgs.|           0|         6|    23.25|          35|           0|\n",
      "|         2|           0|       15|        Genen Shouyu| 24 - 250 ml bottles|           5|         6|     13.0|          39|           0|\n",
      "|         3|           0|       16|             Pavlova|    32 - 500 g boxes|          10|         7|    17.45|          29|           0|\n",
      "|         6|           1|       17|        Alice Mutton|      20 - 1 kg tins|           0|         7|     39.0|           0|           0|\n",
      "|         8|           0|       18|    Carnarvon Tigers|          16 kg pkg.|           0|         7|     62.5|          42|           0|\n",
      "|         3|           0|       19|Teatime Chocolate...|10 boxes x 12 pieces|           5|         8|      9.2|          25|           0|\n",
      "|         3|           0|       20|Sir Rodney's Marm...|       30 gift boxes|           0|         8|     81.0|          40|           0|\n",
      "+----------+------------+---------+--------------------+--------------------+------------+----------+---------+------------+------------+\n",
      "only showing top 20 rows\n",
      "\n"
     ]
    }
   ],
   "source": [
    "products = spark.read.json('/home/student/ROI/Spark/datasets/northwind/JSON/products')\n",
    "print(products)\n",
    "products.show()\n",
    "products.createOrReplaceTempView('products') \n"
   ]
  },
  {
   "cell_type": "code",
   "execution_count": 6,
   "metadata": {},
   "outputs": [
    {
     "name": "stdout",
     "output_type": "stream",
     "text": [
      "+----------+------------+---------+--------------------+--------------------+------------+----------+---------+------------+------------+----------+--------------+\n",
      "|categoryid|discontinued|productid|         productname|     quantityperunit|reorderlevel|supplierid|unitprice|unitsinstock|unitsonorder|CategoryID|  CategoryName|\n",
      "+----------+------------+---------+--------------------+--------------------+------------+----------+---------+------------+------------+----------+--------------+\n",
      "|         1|           1|        1|                Chai|  10 boxes x 30 bags|          10|         8|     18.0|          39|           0|         1|     Beverages|\n",
      "|         1|           1|        2|               Chang|  24 - 12 oz bottles|          25|         1|     19.0|          17|          40|         1|     Beverages|\n",
      "|         2|           0|        3|       Aniseed Syrup| 12 - 550 ml bottles|          25|         1|     10.0|          13|          70|         2|    Condiments|\n",
      "|         2|           0|        4|Chef Anton's Caju...|      48 - 6 oz jars|           0|         2|     22.0|          53|           0|         2|    Condiments|\n",
      "|         2|           1|        5|Chef Anton's Gumb...|            36 boxes|           0|         2|    21.35|           0|           0|         2|    Condiments|\n",
      "|         2|           0|        6|Grandma's Boysenb...|      12 - 8 oz jars|          25|         3|     25.0|         120|           0|         2|    Condiments|\n",
      "|         7|           0|        7|Uncle Bob's Organ...|     12 - 1 lb pkgs.|          10|         3|     30.0|          15|           0|         7|       Produce|\n",
      "|         2|           0|        8|Northwoods Cranbe...|     12 - 12 oz jars|           0|         3|     40.0|           6|           0|         2|    Condiments|\n",
      "|         6|           1|        9|     Mishi Kobe Niku|    18 - 500 g pkgs.|           0|         4|     97.0|          29|           0|         6|  Meat/Poultry|\n",
      "|         8|           0|       10|               Ikura|    12 - 200 ml jars|           0|         4|     31.0|          31|           0|         8|       Seafood|\n",
      "|         4|           0|       11|      Queso Cabrales|           1 kg pkg.|          30|         5|     21.0|          22|          30|         4|Dairy Products|\n",
      "|         4|           0|       12|Queso Manchego La...|    10 - 500 g pkgs.|           0|         5|     38.0|          86|           0|         4|Dairy Products|\n",
      "|         8|           0|       13|               Konbu|            2 kg box|           5|         6|      6.0|          24|           0|         8|       Seafood|\n",
      "|         7|           0|       14|                Tofu|    40 - 100 g pkgs.|           0|         6|    23.25|          35|           0|         7|       Produce|\n",
      "|         2|           0|       15|        Genen Shouyu| 24 - 250 ml bottles|           5|         6|     13.0|          39|           0|         2|    Condiments|\n",
      "|         3|           0|       16|             Pavlova|    32 - 500 g boxes|          10|         7|    17.45|          29|           0|         3|   Confections|\n",
      "|         6|           1|       17|        Alice Mutton|      20 - 1 kg tins|           0|         7|     39.0|           0|           0|         6|  Meat/Poultry|\n",
      "|         8|           0|       18|    Carnarvon Tigers|          16 kg pkg.|           0|         7|     62.5|          42|           0|         8|       Seafood|\n",
      "|         3|           0|       19|Teatime Chocolate...|10 boxes x 12 pieces|           5|         8|      9.2|          25|           0|         3|   Confections|\n",
      "|         3|           0|       20|Sir Rodney's Marm...|       30 gift boxes|           0|         8|     81.0|          40|           0|         3|   Confections|\n",
      "+----------+------------+---------+--------------------+--------------------+------------+----------+---------+------------+------------+----------+--------------+\n",
      "only showing top 20 rows\n",
      "\n"
     ]
    }
   ],
   "source": [
    "sql = \"\"\"\n",
    "select *\n",
    "from products as p\n",
    "join categories as c on p.categoryid = c.categoryid\n",
    "\"\"\"\n",
    "\n",
    "spark.sql(sql).drop('Description').show()"
   ]
  },
  {
   "cell_type": "code",
   "execution_count": 9,
   "metadata": {},
   "outputs": [
    {
     "name": "stdout",
     "output_type": "stream",
     "text": [
      "+----------+--------------+---------+--------------------+---------+------------+------------------+\n",
      "|CategoryID|  CategoryName|ProductID|         ProductName|UnitPrice|UnitsInStock|             Value|\n",
      "+----------+--------------+---------+--------------------+---------+------------+------------------+\n",
      "|         2|    Condiments|        4|Chef Anton's Caju...|     22.0|          53|            1166.0|\n",
      "|         2|    Condiments|        6|Grandma's Boysenb...|     25.0|         120|            3000.0|\n",
      "|         6|  Meat/Poultry|        9|     Mishi Kobe Niku|     97.0|          29|            2813.0|\n",
      "|         4|Dairy Products|       12|Queso Manchego La...|     38.0|          86|            3268.0|\n",
      "|         8|       Seafood|       18|    Carnarvon Tigers|     62.5|          42|            2625.0|\n",
      "|         3|   Confections|       20|Sir Rodney's Marm...|     81.0|          40|            3240.0|\n",
      "|         5|Grains/Cereals|       22| Gustaf's Knackebrod|     21.0|         104|            2184.0|\n",
      "|         3|   Confections|       25|NuNuCa Nuss-Nouga...|     14.0|          76|            1064.0|\n",
      "|         3|   Confections|       27|  Schoggi Schokolade|     43.9|          49|            2151.1|\n",
      "|         7|       Produce|       28|   Rossle Sauerkraut|     45.6|          26|1185.6000000000001|\n",
      "|         1|     Beverages|       34|       Sasquatch Ale|     14.0|         111|            1554.0|\n",
      "|         8|       Seafood|       36|         Inlagd Sill|     19.0|         112|            2128.0|\n",
      "|         1|     Beverages|       38|       Cote de Blaye|    263.5|          17|            4479.5|\n",
      "|         1|     Beverages|       39|    Chartreuse verte|     18.0|          69|            1242.0|\n",
      "|         8|       Seafood|       40|    Boston Crab Meat|     18.4|         123|            2263.2|\n",
      "|         8|       Seafood|       46|           Spegesild|     12.0|          95|            1140.0|\n",
      "|         3|   Confections|       50|    Valkoinen suklaa|    16.25|          65|           1056.25|\n",
      "|         7|       Produce|       51|Manjimup Dried Ap...|     53.0|          20|            1060.0|\n",
      "|         6|  Meat/Poultry|       55|        Pate chinois|     24.0|         115|            2760.0|\n",
      "|         4|Dairy Products|       59|Raclette Courdavault|     55.0|          79|            4345.0|\n",
      "+----------+--------------+---------+--------------------+---------+------------+------------------+\n",
      "only showing top 20 rows\n",
      "\n"
     ]
    }
   ],
   "source": [
    "sql = \"\"\"\n",
    "select c.CategoryID, c.CategoryName, ProductID, ProductName, UnitPrice, UnitsInStock\n",
    ", UnitPrice * UnitsInStock as Value \n",
    "from products as p\n",
    "join categories as c on p.categoryid = c.categoryid\n",
    "where UnitPrice * UnitsInStock > 1000\n",
    "\"\"\"\n",
    "\n",
    "spark.sql(sql).show()"
   ]
  },
  {
   "cell_type": "code",
   "execution_count": 11,
   "metadata": {},
   "outputs": [
    {
     "name": "stdout",
     "output_type": "stream",
     "text": [
      "+----------+--------------+---------+--------------------+---------+------------+------------------+\n",
      "|CategoryID|  CategoryName|ProductID|         ProductName|UnitPrice|UnitsInStock|             Value|\n",
      "+----------+--------------+---------+--------------------+---------+------------+------------------+\n",
      "|         2|    Condiments|        4|Chef Anton's Caju...|     22.0|          53|            1166.0|\n",
      "|         2|    Condiments|        6|Grandma's Boysenb...|     25.0|         120|            3000.0|\n",
      "|         6|  Meat/Poultry|        9|     Mishi Kobe Niku|     97.0|          29|            2813.0|\n",
      "|         4|Dairy Products|       12|Queso Manchego La...|     38.0|          86|            3268.0|\n",
      "|         8|       Seafood|       18|    Carnarvon Tigers|     62.5|          42|            2625.0|\n",
      "|         3|   Confections|       20|Sir Rodney's Marm...|     81.0|          40|            3240.0|\n",
      "|         5|Grains/Cereals|       22| Gustaf's Knackebrod|     21.0|         104|            2184.0|\n",
      "|         3|   Confections|       25|NuNuCa Nuss-Nouga...|     14.0|          76|            1064.0|\n",
      "|         3|   Confections|       27|  Schoggi Schokolade|     43.9|          49|            2151.1|\n",
      "|         7|       Produce|       28|   Rossle Sauerkraut|     45.6|          26|1185.6000000000001|\n",
      "|         1|     Beverages|       34|       Sasquatch Ale|     14.0|         111|            1554.0|\n",
      "|         8|       Seafood|       36|         Inlagd Sill|     19.0|         112|            2128.0|\n",
      "|         1|     Beverages|       38|       Cote de Blaye|    263.5|          17|            4479.5|\n",
      "|         1|     Beverages|       39|    Chartreuse verte|     18.0|          69|            1242.0|\n",
      "|         8|       Seafood|       40|    Boston Crab Meat|     18.4|         123|            2263.2|\n",
      "|         8|       Seafood|       46|           Spegesild|     12.0|          95|            1140.0|\n",
      "|         3|   Confections|       50|    Valkoinen suklaa|    16.25|          65|           1056.25|\n",
      "|         7|       Produce|       51|Manjimup Dried Ap...|     53.0|          20|            1060.0|\n",
      "|         6|  Meat/Poultry|       55|        Pate chinois|     24.0|         115|            2760.0|\n",
      "|         4|Dairy Products|       59|Raclette Courdavault|     55.0|          79|            4345.0|\n",
      "+----------+--------------+---------+--------------------+---------+------------+------------------+\n",
      "only showing top 20 rows\n",
      "\n"
     ]
    }
   ],
   "source": [
    "sql = \"\"\"\n",
    "select * from \n",
    "(\n",
    "select c.CategoryID, c.CategoryName, ProductID, ProductName, UnitPrice, UnitsInStock\n",
    ", UnitPrice * UnitsInStock as Value \n",
    "from products as p\n",
    "join categories as c on p.categoryid = c.categoryid ) as t\n",
    "where UnitPrice * UnitsInStock > 1000\n",
    "\"\"\"\n",
    "\n",
    "spark.sql(sql).show()"
   ]
  },
  {
   "cell_type": "code",
   "execution_count": 10,
   "metadata": {},
   "outputs": [
    {
     "name": "stdout",
     "output_type": "stream",
     "text": [
      "+----------+--------------+---------+--------------------+---------+------------+------------------+\n",
      "|CategoryID|  CategoryName|ProductID|         ProductName|UnitPrice|UnitsInStock|             Value|\n",
      "+----------+--------------+---------+--------------------+---------+------------+------------------+\n",
      "|         2|    Condiments|        4|Chef Anton's Caju...|     22.0|          53|            1166.0|\n",
      "|         2|    Condiments|        6|Grandma's Boysenb...|     25.0|         120|            3000.0|\n",
      "|         6|  Meat/Poultry|        9|     Mishi Kobe Niku|     97.0|          29|            2813.0|\n",
      "|         4|Dairy Products|       12|Queso Manchego La...|     38.0|          86|            3268.0|\n",
      "|         8|       Seafood|       18|    Carnarvon Tigers|     62.5|          42|            2625.0|\n",
      "|         3|   Confections|       20|Sir Rodney's Marm...|     81.0|          40|            3240.0|\n",
      "|         5|Grains/Cereals|       22| Gustaf's Knackebrod|     21.0|         104|            2184.0|\n",
      "|         3|   Confections|       25|NuNuCa Nuss-Nouga...|     14.0|          76|            1064.0|\n",
      "|         3|   Confections|       27|  Schoggi Schokolade|     43.9|          49|            2151.1|\n",
      "|         7|       Produce|       28|   Rossle Sauerkraut|     45.6|          26|1185.6000000000001|\n",
      "|         1|     Beverages|       34|       Sasquatch Ale|     14.0|         111|            1554.0|\n",
      "|         8|       Seafood|       36|         Inlagd Sill|     19.0|         112|            2128.0|\n",
      "|         1|     Beverages|       38|       Cote de Blaye|    263.5|          17|            4479.5|\n",
      "|         1|     Beverages|       39|    Chartreuse verte|     18.0|          69|            1242.0|\n",
      "|         8|       Seafood|       40|    Boston Crab Meat|     18.4|         123|            2263.2|\n",
      "|         8|       Seafood|       46|           Spegesild|     12.0|          95|            1140.0|\n",
      "|         3|   Confections|       50|    Valkoinen suklaa|    16.25|          65|           1056.25|\n",
      "|         7|       Produce|       51|Manjimup Dried Ap...|     53.0|          20|            1060.0|\n",
      "|         6|  Meat/Poultry|       55|        Pate chinois|     24.0|         115|            2760.0|\n",
      "|         4|Dairy Products|       59|Raclette Courdavault|     55.0|          79|            4345.0|\n",
      "+----------+--------------+---------+--------------------+---------+------------+------------------+\n",
      "only showing top 20 rows\n",
      "\n"
     ]
    }
   ],
   "source": [
    "sql = \"\"\"\n",
    "select c.CategoryID, c.CategoryName, ProductID, ProductName, UnitPrice, UnitsInStock\n",
    ", UnitPrice * UnitsInStock as Value \n",
    "from products as p\n",
    "join categories as c on p.categoryid = c.categoryid\n",
    "\"\"\"\n",
    "\n",
    "spark.sql(sql).where('Value > 1000').show()"
   ]
  },
  {
   "cell_type": "code",
   "execution_count": null,
   "metadata": {},
   "outputs": [],
   "source": []
  }
 ],
 "metadata": {
  "colab": {
   "include_colab_link": true,
   "name": "Ch03_SparkSQL_Lab.ipynb",
   "provenance": []
  },
  "kernelspec": {
   "display_name": "Python 3",
   "language": "python",
   "name": "python3"
  },
  "language_info": {
   "codemirror_mode": {
    "name": "ipython",
    "version": 3
   },
   "file_extension": ".py",
   "mimetype": "text/x-python",
   "name": "python",
   "nbconvert_exporter": "python",
   "pygments_lexer": "ipython3",
   "version": "3.7.3"
  }
 },
 "nbformat": 4,
 "nbformat_minor": 1
}
