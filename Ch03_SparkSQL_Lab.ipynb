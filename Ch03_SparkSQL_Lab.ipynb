{
  "nbformat": 4,
  "nbformat_minor": 0,
  "metadata": {
    "kernelspec": {
      "display_name": "Python 3",
      "language": "python",
      "name": "python3"
    },
    "language_info": {
      "codemirror_mode": {
        "name": "ipython",
        "version": 3
      },
      "file_extension": ".py",
      "mimetype": "text/x-python",
      "name": "python",
      "nbconvert_exporter": "python",
      "pygments_lexer": "ipython3",
      "version": "3.7.3"
    },
    "colab": {
      "name": "Ch03_SparkSQL_Lab.ipynb",
      "provenance": [],
      "include_colab_link": true
    }
  },
  "cells": [
    {
      "cell_type": "markdown",
      "metadata": {
        "id": "view-in-github",
        "colab_type": "text"
      },
      "source": [
        "<a href=\"https://colab.research.google.com/github/roitraining/SparkforDataEngineers/blob/Development/Ch03_SparkSQL_Lab.ipynb\" target=\"_parent\"><img src=\"https://colab.research.google.com/assets/colab-badge.svg\" alt=\"Open In Colab\"/></a>"
      ]
    },
    {
      "cell_type": "code",
      "metadata": {
        "id": "j-1XNMUZpgnJ",
        "colab_type": "code",
        "colab": {}
      },
      "source": [
        "import sys\n",
        "sys.path.append('/home/student/ROI/Spark')\n",
        "from initspark import *\n",
        "sc, spark, conf = initspark()"
      ],
      "execution_count": 0,
      "outputs": []
    },
    {
      "cell_type": "markdown",
      "metadata": {
        "id": "0gItUluIpgnW",
        "colab_type": "text"
      },
      "source": [
        "### *LAB:* Read the northwind JSON products and make it into a TempView and do the same with the CSVHeaders version of categories."
      ]
    },
    {
      "cell_type": "code",
      "metadata": {
        "id": "Nqvp-9ZOpgnX",
        "colab_type": "code",
        "colab": {}
      },
      "source": [
        "categories = spark.read.csv('/home/student/ROI/Spark/datasets/northwind/CSVHeaders/categories', header=True, inferSchema = True)\n",
        "print(categories)\n",
        "categories.show(10)\n",
        "categories.createOrReplaceTempView('categories') \n"
      ],
      "execution_count": 0,
      "outputs": []
    },
    {
      "cell_type": "code",
      "metadata": {
        "id": "Jt_RLpEupgnb",
        "colab_type": "code",
        "colab": {}
      },
      "source": [
        "products = spark.read.json('/home/student/ROI/SparkProgram/datasets/northwind/JSON/products')\n",
        "print(products)\n",
        "products.show()\n",
        "products.createOrReplaceTempView('products') \n"
      ],
      "execution_count": 0,
      "outputs": []
    }
  ]
}