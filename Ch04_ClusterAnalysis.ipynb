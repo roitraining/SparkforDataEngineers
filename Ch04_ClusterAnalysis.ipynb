{
 "cells": [
  {
   "cell_type": "markdown",
   "metadata": {
    "colab_type": "text",
    "id": "view-in-github"
   },
   "source": [
    "<a href=\"https://colab.research.google.com/github/roitraining/SparkforDataEngineers/blob/Development/Ch04_ClusterAnalysis.ipynb\" target=\"_parent\"><img src=\"https://colab.research.google.com/assets/colab-badge.svg\" alt=\"Open In Colab\"/></a>"
   ]
  },
  {
   "cell_type": "markdown",
   "metadata": {
    "colab_type": "text",
    "id": "y6KkEjHKpxwC"
   },
   "source": [
    "### Initialize the spark environment and load the helper functions we have provided."
   ]
  },
  {
   "cell_type": "code",
   "execution_count": 1,
   "metadata": {
    "colab": {},
    "colab_type": "code",
    "id": "jva8hK90pxwF"
   },
   "outputs": [
    {
     "name": "stdout",
     "output_type": "stream",
     "text": [
      "initializing pyspark\n",
      "pyspark initialized\n"
     ]
    }
   ],
   "source": [
    "import sys\n",
    "\n",
    "rootpath = '/home/student/ROI/Spark/'\n",
    "datapath = f'{rootpath}datasets/'\n",
    "sys.path.append(rootpath)\n",
    "from pyspark_helpers import *\n",
    "sc, spark, conf = initspark()\n",
    "\n",
    "import pandas as pd\n",
    "import matplotlib as mp\n",
    "import numpy\n",
    "from matplotlib import pyplot as plt\n"
   ]
  },
  {
   "cell_type": "markdown",
   "metadata": {
    "colab_type": "text",
    "id": "DbzStKdFpxwM"
   },
   "source": [
    "### Read in a simple dataset of latitudes and longitudes."
   ]
  },
  {
   "cell_type": "code",
   "execution_count": 2,
   "metadata": {
    "colab": {},
    "colab_type": "code",
    "id": "zM_IDpZzpxwN"
   },
   "outputs": [
    {
     "data": {
      "text/html": [
       "<div>\n",
       "<style scoped>\n",
       "    .dataframe tbody tr th:only-of-type {\n",
       "        vertical-align: middle;\n",
       "    }\n",
       "\n",
       "    .dataframe tbody tr th {\n",
       "        vertical-align: top;\n",
       "    }\n",
       "\n",
       "    .dataframe thead th {\n",
       "        text-align: right;\n",
       "    }\n",
       "</style>\n",
       "<table border=\"1\" class=\"dataframe\">\n",
       "  <thead>\n",
       "    <tr style=\"text-align: right;\">\n",
       "      <th></th>\n",
       "      <th>lat</th>\n",
       "      <th>lng</th>\n",
       "    </tr>\n",
       "  </thead>\n",
       "  <tbody>\n",
       "    <tr>\n",
       "      <th>0</th>\n",
       "      <td>33.679646</td>\n",
       "      <td>-117.174095</td>\n",
       "    </tr>\n",
       "    <tr>\n",
       "      <th>1</th>\n",
       "      <td>28.331356</td>\n",
       "      <td>-81.532453</td>\n",
       "    </tr>\n",
       "    <tr>\n",
       "      <th>2</th>\n",
       "      <td>37.413353</td>\n",
       "      <td>-121.897995</td>\n",
       "    </tr>\n",
       "    <tr>\n",
       "      <th>3</th>\n",
       "      <td>37.525905</td>\n",
       "      <td>-122.006624</td>\n",
       "    </tr>\n",
       "    <tr>\n",
       "      <th>4</th>\n",
       "      <td>37.919969</td>\n",
       "      <td>-122.348976</td>\n",
       "    </tr>\n",
       "    <tr>\n",
       "      <th>5</th>\n",
       "      <td>38.730606</td>\n",
       "      <td>-120.788085</td>\n",
       "    </tr>\n",
       "    <tr>\n",
       "      <th>6</th>\n",
       "      <td>39.250765</td>\n",
       "      <td>-119.948927</td>\n",
       "    </tr>\n",
       "    <tr>\n",
       "      <th>7</th>\n",
       "      <td>36.916349</td>\n",
       "      <td>-121.773512</td>\n",
       "    </tr>\n",
       "    <tr>\n",
       "      <th>8</th>\n",
       "      <td>34.441994</td>\n",
       "      <td>-119.258898</td>\n",
       "    </tr>\n",
       "    <tr>\n",
       "      <th>9</th>\n",
       "      <td>36.116710</td>\n",
       "      <td>-115.168258</td>\n",
       "    </tr>\n",
       "  </tbody>\n",
       "</table>\n",
       "</div>"
      ],
      "text/plain": [
       "         lat         lng\n",
       "0  33.679646 -117.174095\n",
       "1  28.331356  -81.532453\n",
       "2  37.413353 -121.897995\n",
       "3  37.525905 -122.006624\n",
       "4  37.919969 -122.348976\n",
       "5  38.730606 -120.788085\n",
       "6  39.250765 -119.948927\n",
       "7  36.916349 -121.773512\n",
       "8  34.441994 -119.258898\n",
       "9  36.116710 -115.168258"
      ]
     },
     "metadata": {},
     "output_type": "display_data"
    }
   ],
   "source": [
    "filename = 'superchargers.csv'\n",
    "df = spark.read.csv(f'{datapath}{filename}', header = True, inferSchema = True)\n",
    "display(df)\n",
    "\n",
    "# Save a pointer to the raw data\n",
    "dfRawFile = df\n",
    "\n"
   ]
  },
  {
   "cell_type": "markdown",
   "metadata": {
    "colab_type": "text",
    "id": "3d12RxW8pxwR"
   },
   "source": [
    "### Visualize this dataset using pandas. Normally you don't do this in spark but it is helpful here."
   ]
  },
  {
   "cell_type": "code",
   "execution_count": 3,
   "metadata": {
    "colab": {},
    "colab_type": "code",
    "id": "jf3-joDrpxwS"
   },
   "outputs": [
    {
     "data": {
      "text/plain": [
       "[<matplotlib.lines.Line2D at 0x7f57993017b8>]"
      ]
     },
     "execution_count": 3,
     "metadata": {},
     "output_type": "execute_result"
    },
    {
     "data": {
      "image/png": "[encoded data removed]",
      "text/plain": [
       "<Figure size 432x288 with 1 Axes>"
      ]
     },
     "metadata": {
      "needs_background": "light"
     },
     "output_type": "display_data"
    }
   ],
   "source": [
    "%matplotlib inline\n",
    "p = df.toPandas()\n",
    "import matplotlib.pyplot as plt\n",
    "plt.plot(p.loc[:,'lat'],p.loc[:,'lng'],'o')\n",
    "\n"
   ]
  },
  {
   "cell_type": "markdown",
   "metadata": {
    "colab_type": "text",
    "id": "YNtS0k3bpxwV"
   },
   "source": [
    "### Turn the features into a big vector."
   ]
  },
  {
   "cell_type": "code",
   "execution_count": 4,
   "metadata": {
    "colab": {},
    "colab_type": "code",
    "id": "juAe-hNYpxwW"
   },
   "outputs": [
    {
     "data": {
      "text/html": [
       "<div>\n",
       "<style scoped>\n",
       "    .dataframe tbody tr th:only-of-type {\n",
       "        vertical-align: middle;\n",
       "    }\n",
       "\n",
       "    .dataframe tbody tr th {\n",
       "        vertical-align: top;\n",
       "    }\n",
       "\n",
       "    .dataframe thead th {\n",
       "        text-align: right;\n",
       "    }\n",
       "</style>\n",
       "<table border=\"1\" class=\"dataframe\">\n",
       "  <thead>\n",
       "    <tr style=\"text-align: right;\">\n",
       "      <th></th>\n",
       "      <th>lat</th>\n",
       "      <th>lng</th>\n",
       "      <th>features</th>\n",
       "    </tr>\n",
       "  </thead>\n",
       "  <tbody>\n",
       "    <tr>\n",
       "      <th>0</th>\n",
       "      <td>33.679646</td>\n",
       "      <td>-117.174095</td>\n",
       "      <td>[33.679646, -117.174095]</td>\n",
       "    </tr>\n",
       "    <tr>\n",
       "      <th>1</th>\n",
       "      <td>28.331356</td>\n",
       "      <td>-81.532453</td>\n",
       "      <td>[28.331356, -81.532453]</td>\n",
       "    </tr>\n",
       "    <tr>\n",
       "      <th>2</th>\n",
       "      <td>37.413353</td>\n",
       "      <td>-121.897995</td>\n",
       "      <td>[37.413353, -121.897995]</td>\n",
       "    </tr>\n",
       "    <tr>\n",
       "      <th>3</th>\n",
       "      <td>37.525905</td>\n",
       "      <td>-122.006624</td>\n",
       "      <td>[37.525905, -122.006624]</td>\n",
       "    </tr>\n",
       "    <tr>\n",
       "      <th>4</th>\n",
       "      <td>37.919969</td>\n",
       "      <td>-122.348976</td>\n",
       "      <td>[37.919969, -122.348976]</td>\n",
       "    </tr>\n",
       "    <tr>\n",
       "      <th>5</th>\n",
       "      <td>38.730606</td>\n",
       "      <td>-120.788085</td>\n",
       "      <td>[38.730606, -120.788085]</td>\n",
       "    </tr>\n",
       "    <tr>\n",
       "      <th>6</th>\n",
       "      <td>39.250765</td>\n",
       "      <td>-119.948927</td>\n",
       "      <td>[39.250765, -119.948927]</td>\n",
       "    </tr>\n",
       "    <tr>\n",
       "      <th>7</th>\n",
       "      <td>36.916349</td>\n",
       "      <td>-121.773512</td>\n",
       "      <td>[36.916349, -121.773512]</td>\n",
       "    </tr>\n",
       "    <tr>\n",
       "      <th>8</th>\n",
       "      <td>34.441994</td>\n",
       "      <td>-119.258898</td>\n",
       "      <td>[34.441994, -119.258898]</td>\n",
       "    </tr>\n",
       "    <tr>\n",
       "      <th>9</th>\n",
       "      <td>36.116710</td>\n",
       "      <td>-115.168258</td>\n",
       "      <td>[36.11671, -115.168258]</td>\n",
       "    </tr>\n",
       "  </tbody>\n",
       "</table>\n",
       "</div>"
      ],
      "text/plain": [
       "         lat         lng                  features\n",
       "0  33.679646 -117.174095  [33.679646, -117.174095]\n",
       "1  28.331356  -81.532453   [28.331356, -81.532453]\n",
       "2  37.413353 -121.897995  [37.413353, -121.897995]\n",
       "3  37.525905 -122.006624  [37.525905, -122.006624]\n",
       "4  37.919969 -122.348976  [37.919969, -122.348976]\n",
       "5  38.730606 -120.788085  [38.730606, -120.788085]\n",
       "6  39.250765 -119.948927  [39.250765, -119.948927]\n",
       "7  36.916349 -121.773512  [36.916349, -121.773512]\n",
       "8  34.441994 -119.258898  [34.441994, -119.258898]\n",
       "9  36.116710 -115.168258   [36.11671, -115.168258]"
      ]
     },
     "metadata": {},
     "output_type": "display_data"
    }
   ],
   "source": [
    "from pyspark.ml.feature import VectorAssembler\n",
    "vecAssembler = VectorAssembler(inputCols=[\"lat\", \"lng\"], outputCol=\"features\")\n",
    "dfML = vecAssembler.transform(df)\n",
    "display(dfML)\n"
   ]
  },
  {
   "cell_type": "markdown",
   "metadata": {
    "colab_type": "text",
    "id": "YiQS7aWcpxwf"
   },
   "source": [
    "### Visualize the cluster results graphically."
   ]
  },
  {
   "cell_type": "code",
   "execution_count": 11,
   "metadata": {
    "colab": {},
    "colab_type": "code",
    "id": "M7PxeQFNpxwh"
   },
   "outputs": [
    {
     "name": "stdout",
     "output_type": "stream",
     "text": [
      "[array([  35.10181175, -116.7219575 ]), array([ 28.0131932, -81.5283882]), array([  38.20660229, -121.74965171])]\n",
      "<class 'numpy.ndarray'>\n"
     ]
    },
    {
     "data": {
      "text/html": [
       "<div>\n",
       "<style scoped>\n",
       "    .dataframe tbody tr th:only-of-type {\n",
       "        vertical-align: middle;\n",
       "    }\n",
       "\n",
       "    .dataframe tbody tr th {\n",
       "        vertical-align: top;\n",
       "    }\n",
       "\n",
       "    .dataframe thead th {\n",
       "        text-align: right;\n",
       "    }\n",
       "</style>\n",
       "<table border=\"1\" class=\"dataframe\">\n",
       "  <thead>\n",
       "    <tr style=\"text-align: right;\">\n",
       "      <th></th>\n",
       "      <th>lat</th>\n",
       "      <th>lng</th>\n",
       "      <th>features</th>\n",
       "      <th>prediction</th>\n",
       "    </tr>\n",
       "  </thead>\n",
       "  <tbody>\n",
       "    <tr>\n",
       "      <th>0</th>\n",
       "      <td>33.679646</td>\n",
       "      <td>-117.174095</td>\n",
       "      <td>[33.679646, -117.174095]</td>\n",
       "      <td>0</td>\n",
       "    </tr>\n",
       "    <tr>\n",
       "      <th>1</th>\n",
       "      <td>28.331356</td>\n",
       "      <td>-81.532453</td>\n",
       "      <td>[28.331356, -81.532453]</td>\n",
       "      <td>1</td>\n",
       "    </tr>\n",
       "    <tr>\n",
       "      <th>2</th>\n",
       "      <td>37.413353</td>\n",
       "      <td>-121.897995</td>\n",
       "      <td>[37.413353, -121.897995]</td>\n",
       "      <td>2</td>\n",
       "    </tr>\n",
       "    <tr>\n",
       "      <th>3</th>\n",
       "      <td>37.525905</td>\n",
       "      <td>-122.006624</td>\n",
       "      <td>[37.525905, -122.006624]</td>\n",
       "      <td>2</td>\n",
       "    </tr>\n",
       "    <tr>\n",
       "      <th>4</th>\n",
       "      <td>37.919969</td>\n",
       "      <td>-122.348976</td>\n",
       "      <td>[37.919969, -122.348976]</td>\n",
       "      <td>2</td>\n",
       "    </tr>\n",
       "    <tr>\n",
       "      <th>5</th>\n",
       "      <td>38.730606</td>\n",
       "      <td>-120.788085</td>\n",
       "      <td>[38.730606, -120.788085]</td>\n",
       "      <td>2</td>\n",
       "    </tr>\n",
       "    <tr>\n",
       "      <th>6</th>\n",
       "      <td>39.250765</td>\n",
       "      <td>-119.948927</td>\n",
       "      <td>[39.250765, -119.948927]</td>\n",
       "      <td>2</td>\n",
       "    </tr>\n",
       "    <tr>\n",
       "      <th>7</th>\n",
       "      <td>36.916349</td>\n",
       "      <td>-121.773512</td>\n",
       "      <td>[36.916349, -121.773512]</td>\n",
       "      <td>2</td>\n",
       "    </tr>\n",
       "    <tr>\n",
       "      <th>8</th>\n",
       "      <td>34.441994</td>\n",
       "      <td>-119.258898</td>\n",
       "      <td>[34.441994, -119.258898]</td>\n",
       "      <td>0</td>\n",
       "    </tr>\n",
       "    <tr>\n",
       "      <th>9</th>\n",
       "      <td>36.116710</td>\n",
       "      <td>-115.168258</td>\n",
       "      <td>[36.11671, -115.168258]</td>\n",
       "      <td>0</td>\n",
       "    </tr>\n",
       "  </tbody>\n",
       "</table>\n",
       "</div>"
      ],
      "text/plain": [
       "         lat         lng                  features  prediction\n",
       "0  33.679646 -117.174095  [33.679646, -117.174095]           0\n",
       "1  28.331356  -81.532453   [28.331356, -81.532453]           1\n",
       "2  37.413353 -121.897995  [37.413353, -121.897995]           2\n",
       "3  37.525905 -122.006624  [37.525905, -122.006624]           2\n",
       "4  37.919969 -122.348976  [37.919969, -122.348976]           2\n",
       "5  38.730606 -120.788085  [38.730606, -120.788085]           2\n",
       "6  39.250765 -119.948927  [39.250765, -119.948927]           2\n",
       "7  36.916349 -121.773512  [36.916349, -121.773512]           2\n",
       "8  34.441994 -119.258898  [34.441994, -119.258898]           0\n",
       "9  36.116710 -115.168258   [36.11671, -115.168258]           0"
      ]
     },
     "metadata": {},
     "output_type": "display_data"
    }
   ],
   "source": [
    "from pyspark.ml.clustering import KMeans\n",
    "import matplotlib.pyplot as plt\n",
    "\n",
    "CLUSTERS = 3\n",
    "\n",
    "#kmeans = KMeans(k=2, seed = 1)\n",
    "\n",
    "kmeans = KMeans().setK(CLUSTERS).setSeed(2)\n",
    "\n",
    "# kmeans = KMeans()\n",
    "# kmeans.setK(CLUSTERS)\n",
    "# kmeans.setSeed(1)\n",
    "\n",
    "model = kmeans.fit(dfML.select('features')) # pandas dfML[['features']]\n",
    "centroids = model.clusterCenters()\n",
    "print(centroids)\n",
    "print(type(centroids[0]))\n",
    "\n",
    "predictions = model.transform(dfML) # pandas .predict\n",
    "display(predictions)\n",
    "\n"
   ]
  },
  {
   "cell_type": "code",
   "execution_count": 12,
   "metadata": {},
   "outputs": [
    {
     "data": {
      "image/png": "[encoded data removed]",
      "text/plain": [
       "<Figure size 432x288 with 1 Axes>"
      ]
     },
     "metadata": {
      "needs_background": "light"
     },
     "output_type": "display_data"
    }
   ],
   "source": [
    "%matplotlib inline\n",
    "for i in range(CLUSTERS):    \n",
    "    p = predictions.select('lat', 'lng').where(f'prediction = {i}').toPandas()\n",
    "    plt.plot(p.loc[:,'lat'],p.loc[:,'lng'],'o')\n",
    "    plt.plot(centroids[i][0], \n",
    "           centroids[i][1],'kx')\n",
    "\n"
   ]
  },
  {
   "cell_type": "markdown",
   "metadata": {
    "colab_type": "text",
    "id": "0KDNJ3GMpxwb"
   },
   "source": [
    "### Load the KMeans class and train the model. Evaluate how good it performs for several different cluster counts."
   ]
  },
  {
   "cell_type": "code",
   "execution_count": 13,
   "metadata": {
    "colab": {},
    "colab_type": "code",
    "id": "oqbL9hrJpxwc",
    "scrolled": true
   },
   "outputs": [
    {
     "name": "stdout",
     "output_type": "stream",
     "text": [
      "Number of clusters 2\n",
      "Within Set Sum of Squared Errors = 129.99096466421906\n",
      "Silhouette with squared euclidean distance = 0.987806408922707\n",
      "Cluster Centers: \n",
      "[ 28.0131932 -81.5283882]\n",
      "[  37.07758755 -119.92139927]\n",
      "\n",
      "Number of clusters 3\n",
      "Within Set Sum of Squared Errors = 41.11022514378055\n",
      "Silhouette with squared euclidean distance = 0.8702679015072282\n",
      "Cluster Centers: \n",
      "[  38.20660229 -121.74965171]\n",
      "[  35.10181175 -116.7219575 ]\n",
      "[ 28.0131932 -81.5283882]\n",
      "\n",
      "Number of clusters 4\n",
      "Within Set Sum of Squared Errors = 35.03850353437156\n",
      "Silhouette with squared euclidean distance = 0.7646576235092908\n",
      "Cluster Centers: \n",
      "[ 28.0131932 -81.5283882]\n",
      "[  37.95949117 -121.4606865 ]\n",
      "[  35.10181175 -116.7219575 ]\n",
      "[  39.689269 -123.483443]\n",
      "\n"
     ]
    }
   ],
   "source": [
    "%matplotlib inline\n",
    "\n",
    "from pyspark.ml.clustering import KMeans\n",
    "from pyspark.ml.evaluation import ClusteringEvaluator\n",
    "\n",
    "def evaluateCluster(model, df):\n",
    "    wssse = model.computeCost(dfML.select('features'))\n",
    "    print(\"Within Set Sum of Squared Errors = \" + str(wssse))\n",
    "\n",
    "    evaluator = ClusteringEvaluator()\n",
    "\n",
    "    predictions = model.transform(df)\n",
    "    silhouette = evaluator.evaluate(predictions)\n",
    "    print(\"Silhouette with squared euclidean distance = \" + str(silhouette))\n",
    "\n",
    "    # Shows the result.\n",
    "    centers = model.clusterCenters()\n",
    "    print(\"Cluster Centers: \")\n",
    "    for center in centers:\n",
    "        print(center)\n",
    "\n",
    "for k in range(2, 5): # mean 2, 3, 4 python up to but not including 5\n",
    "    print ('Number of clusters', k)\n",
    "    kmeans = KMeans().setK(k).setSeed(1)\n",
    "    model = kmeans.fit(dfML.select('features'))\n",
    "    evaluateCluster(model, dfML.select('features'))\n",
    "    print()\n"
   ]
  },
  {
   "cell_type": "markdown",
   "metadata": {
    "colab_type": "text",
    "id": "yhLUXEbspxwk"
   },
   "source": [
    "### Use and elbow chart to help visualize what is the optimal number of clusters."
   ]
  },
  {
   "cell_type": "code",
   "execution_count": 14,
   "metadata": {
    "colab": {},
    "colab_type": "code",
    "id": "pr1gAeuKpxwl"
   },
   "outputs": [
    {
     "name": "stdout",
     "output_type": "stream",
     "text": [
      "[129.99096466421906, 41.11022514378055, 35.03850353437156, 20.778402640553395, 18.31461362959817]\n"
     ]
    },
    {
     "data": {
      "image/png": "[encoded data removed]",
      "text/plain": [
       "<Figure size 432x288 with 1 Axes>"
      ]
     },
     "metadata": {
      "needs_background": "light"
     },
     "output_type": "display_data"
    }
   ],
   "source": [
    "%matplotlib inline\n",
    "def plot_elbow(df, cluster_cnt = 6):\n",
    "    import numpy as np\n",
    "    CLUSTERS = range(2, cluster_cnt)\n",
    "    scores = [KMeans().setK(c).setSeed(1).fit(df).computeCost(df)\n",
    "              for c in CLUSTERS]\n",
    "    print(scores)\n",
    "    plt.plot(CLUSTERS, scores)\n",
    "    plt.xlabel('Number of Clusters')\n",
    "    plt.ylabel('Score')\n",
    "    plt.title('Elbow Curve')\n",
    "    plt.xticks(np.arange(2, cluster_cnt))\n",
    "\n",
    "plot_elbow(dfML.select('features'), 7)"
   ]
  },
  {
   "cell_type": "markdown",
   "metadata": {
    "colab_type": "text",
    "id": "IQu0GCM6pxwq"
   },
   "source": [
    "### Work in progress below."
   ]
  },
  {
   "cell_type": "code",
   "execution_count": null,
   "metadata": {
    "colab": {},
    "colab_type": "code",
    "id": "xw65R2tZpxwr"
   },
   "outputs": [],
   "source": [
    "# from pyspark.ml.clustering import LDA\n",
    "# lda = LDA(k=10, maxIter=10)\n",
    "# model = lda.fit(dfML.select('features'))\n",
    "\n",
    "# ll = model.logLikelihood(dfML)\n",
    "# lp = model.logPerplexity(dfML)\n",
    "# print(\"The lower bound on the log likelihood of the entire corpus: \" + str(ll))\n",
    "# print(\"The upper bound on perplexity: \" + str(lp))\n",
    "\n",
    "# # Describe topics.\n",
    "# topics = model.describeTopics(3)\n",
    "# print(\"The topics described by their top-weighted terms:\")\n",
    "# topics.show(truncate=False)\n",
    "\n",
    "# # Shows the result\n",
    "# transformed = model.transform(dataset.select('features'))\n",
    "# transformed.show()"
   ]
  },
  {
   "cell_type": "code",
   "execution_count": 17,
   "metadata": {
    "colab": {},
    "colab_type": "code",
    "id": "wHf9aHUlpxwu"
   },
   "outputs": [
    {
     "name": "stdout",
     "output_type": "stream",
     "text": [
      "Gaussians shown as a DataFrame: \n",
      "+----------------------------------------+-------------------------------------------------------------------------------------+\n",
      "|mean                                    |cov                                                                                  |\n",
      "+----------------------------------------+-------------------------------------------------------------------------------------+\n",
      "|[37.077587545454506,-119.92139927272711]|3.2333405356350844  -3.090935456661164  \n",
      "-3.090935456661164  7.552645474238561       |\n",
      "|[28.01319320000047,-81.52838820000206]  |1.6190592360003555   -0.8028581428508544  \n",
      "-0.8028581428508544  0.6499644752140439   |\n",
      "+----------------------------------------+-------------------------------------------------------------------------------------+\n",
      "\n"
     ]
    },
    {
     "data": {
      "text/html": [
       "<div>\n",
       "<style scoped>\n",
       "    .dataframe tbody tr th:only-of-type {\n",
       "        vertical-align: middle;\n",
       "    }\n",
       "\n",
       "    .dataframe tbody tr th {\n",
       "        vertical-align: top;\n",
       "    }\n",
       "\n",
       "    .dataframe thead th {\n",
       "        text-align: right;\n",
       "    }\n",
       "</style>\n",
       "<table border=\"1\" class=\"dataframe\">\n",
       "  <thead>\n",
       "    <tr style=\"text-align: right;\">\n",
       "      <th></th>\n",
       "      <th>features</th>\n",
       "      <th>prediction</th>\n",
       "      <th>probability</th>\n",
       "    </tr>\n",
       "  </thead>\n",
       "  <tbody>\n",
       "    <tr>\n",
       "      <th>0</th>\n",
       "      <td>[33.679646, -117.174095]</td>\n",
       "      <td>0</td>\n",
       "      <td>[0.999999999999952, 4.7942372224934206e-14]</td>\n",
       "    </tr>\n",
       "    <tr>\n",
       "      <th>1</th>\n",
       "      <td>[28.331356, -81.532453]</td>\n",
       "      <td>1</td>\n",
       "      <td>[3.082577944845833e-15, 0.9999999999999969]</td>\n",
       "    </tr>\n",
       "    <tr>\n",
       "      <th>2</th>\n",
       "      <td>[37.413353, -121.897995]</td>\n",
       "      <td>0</td>\n",
       "      <td>[0.9999999999999892, 1.0726970732051542e-14]</td>\n",
       "    </tr>\n",
       "    <tr>\n",
       "      <th>3</th>\n",
       "      <td>[37.525905, -122.006624]</td>\n",
       "      <td>0</td>\n",
       "      <td>[0.9999999999999891, 1.0878415217792152e-14]</td>\n",
       "    </tr>\n",
       "    <tr>\n",
       "      <th>4</th>\n",
       "      <td>[37.919969, -122.348976]</td>\n",
       "      <td>0</td>\n",
       "      <td>[0.9999999999999883, 1.1625280215628107e-14]</td>\n",
       "    </tr>\n",
       "    <tr>\n",
       "      <th>5</th>\n",
       "      <td>[38.730606, -120.788085]</td>\n",
       "      <td>0</td>\n",
       "      <td>[0.9999999999999873, 1.2618406687266063e-14]</td>\n",
       "    </tr>\n",
       "    <tr>\n",
       "      <th>6</th>\n",
       "      <td>[39.250765, -119.948927]</td>\n",
       "      <td>0</td>\n",
       "      <td>[0.9999999999999744, 2.5649848185945337e-14]</td>\n",
       "    </tr>\n",
       "    <tr>\n",
       "      <th>7</th>\n",
       "      <td>[36.916349, -121.773512]</td>\n",
       "      <td>0</td>\n",
       "      <td>[0.9999999999999878, 1.2170010896677546e-14]</td>\n",
       "    </tr>\n",
       "    <tr>\n",
       "      <th>8</th>\n",
       "      <td>[34.441994, -119.258898]</td>\n",
       "      <td>0</td>\n",
       "      <td>[0.9999999999999667, 3.332919653345344e-14]</td>\n",
       "    </tr>\n",
       "    <tr>\n",
       "      <th>9</th>\n",
       "      <td>[36.11671, -115.168258]</td>\n",
       "      <td>0</td>\n",
       "      <td>[0.9999999999999554, 4.4658056936119286e-14]</td>\n",
       "    </tr>\n",
       "  </tbody>\n",
       "</table>\n",
       "</div>"
      ],
      "text/plain": [
       "                   features  prediction  \\\n",
       "0  [33.679646, -117.174095]           0   \n",
       "1   [28.331356, -81.532453]           1   \n",
       "2  [37.413353, -121.897995]           0   \n",
       "3  [37.525905, -122.006624]           0   \n",
       "4  [37.919969, -122.348976]           0   \n",
       "5  [38.730606, -120.788085]           0   \n",
       "6  [39.250765, -119.948927]           0   \n",
       "7  [36.916349, -121.773512]           0   \n",
       "8  [34.441994, -119.258898]           0   \n",
       "9   [36.11671, -115.168258]           0   \n",
       "\n",
       "                                    probability  \n",
       "0   [0.999999999999952, 4.7942372224934206e-14]  \n",
       "1   [3.082577944845833e-15, 0.9999999999999969]  \n",
       "2  [0.9999999999999892, 1.0726970732051542e-14]  \n",
       "3  [0.9999999999999891, 1.0878415217792152e-14]  \n",
       "4  [0.9999999999999883, 1.1625280215628107e-14]  \n",
       "5  [0.9999999999999873, 1.2618406687266063e-14]  \n",
       "6  [0.9999999999999744, 2.5649848185945337e-14]  \n",
       "7  [0.9999999999999878, 1.2170010896677546e-14]  \n",
       "8   [0.9999999999999667, 3.332919653345344e-14]  \n",
       "9  [0.9999999999999554, 4.4658056936119286e-14]  "
      ]
     },
     "metadata": {},
     "output_type": "display_data"
    }
   ],
   "source": [
    "from pyspark.ml.clustering import GaussianMixture\n",
    "\n",
    "# loads data\n",
    "gmm = GaussianMixture().setK(2).setSeed(1)\n",
    "model = gmm.fit(dfML.select('features'))\n",
    "\n",
    "print(\"Gaussians shown as a DataFrame: \")\n",
    "model.gaussiansDF.show(truncate=False)\n",
    "\n",
    "predictions2 = model.transform(dfML.select('features'))\n",
    "display(predictions2)"
   ]
  },
  {
   "cell_type": "code",
   "execution_count": null,
   "metadata": {
    "colab": {},
    "colab_type": "code",
    "id": "JzrQlYHYpxwy"
   },
   "outputs": [],
   "source": []
  }
 ],
 "metadata": {
  "colab": {
   "include_colab_link": true,
   "name": "Ch04_ClusterAnalysis.ipynb",
   "provenance": []
  },
  "kernelspec": {
   "display_name": "Python 3",
   "language": "python",
   "name": "python3"
  },
  "language_info": {
   "codemirror_mode": {
    "name": "ipython",
    "version": 3
   },
   "file_extension": ".py",
   "mimetype": "text/x-python",
   "name": "python",
   "nbconvert_exporter": "python",
   "pygments_lexer": "ipython3",
   "version": "3.7.3"
  }
 },
 "nbformat": 4,
 "nbformat_minor": 1
}
