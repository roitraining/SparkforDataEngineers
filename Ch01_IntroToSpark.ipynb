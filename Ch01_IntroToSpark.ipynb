{
 "cells": [
  {
   "cell_type": "markdown",
   "metadata": {
    "colab_type": "text",
    "id": "view-in-github"
   },
   "source": [
    "<a href=\"https://colab.research.google.com/github/roitraining/SparkProgram/blob/master/Day1/IntroToSpark.ipynb\" target=\"_parent\"><img src=\"https://colab.research.google.com/assets/colab-badge.svg\" alt=\"Open In Colab\"/></a>"
   ]
  },
  {
   "cell_type": "markdown",
   "metadata": {
    "colab_type": "text",
    "id": "stLlpheLWf_j"
   },
   "source": [
    "Create the Spark context to start a session and connect to the cluster."
   ]
  },
  {
   "cell_type": "code",
   "execution_count": 1,
   "metadata": {
    "colab": {},
    "colab_type": "code",
    "id": "oC4ujoSFWf_m"
   },
   "outputs": [],
   "source": [
    "import sys\n",
    "sys.path.append('/home/student/ROI/SparkProgram')\n",
    "from initspark import *\n",
    "sc, spark, conf = initspark()\n"
   ]
  },
  {
   "cell_type": "markdown",
   "metadata": {
    "colab_type": "text",
    "id": "uH-N0vuoWf_v"
   },
   "source": [
    "Read a text file from the local file system."
   ]
  },
  {
   "cell_type": "code",
   "execution_count": 2,
   "metadata": {
    "colab": {},
    "colab_type": "code",
    "id": "A6iEi36CWf_w",
    "outputId": "830c2c60-7f75-484f-f1ea-02c7753f5381"
   },
   "outputs": [
    {
     "name": "stdout",
     "output_type": "stream",
     "text": [
      "124796\n",
      "['The Project Gutenberg EBook of The Complete Works of William Shakespeare, by ', 'William Shakespeare', '', 'This eBook is for the use of anyone anywhere at no cost and with', 'almost no restrictions whatsoever.  You may copy it, give it away or', 're-use it under the terms of the Project Gutenberg License included', 'with this eBook or online at www.gutenberg.org', '', '** This is a COPYRIGHTED Project Gutenberg eBook, Details Below **', '**     Please follow the copyright guidelines in this file.     **']\n"
     ]
    }
   ],
   "source": [
    "shake = sc.textFile('/home/student/ROI/SparkProgram/datasets/text/shakespeare.txt')\n",
    "print(shake.count())\n",
    "print(shake.take(10))"
   ]
  },
  {
   "cell_type": "markdown",
   "metadata": {
    "colab_type": "text",
    "id": "Bt-1Pg9DWf_1"
   },
   "source": [
    "Use the map method to apply a function call on each element."
   ]
  },
  {
   "cell_type": "code",
   "execution_count": 3,
   "metadata": {
    "colab": {},
    "colab_type": "code",
    "id": "D3wwsvU6Wf_2",
    "outputId": "7d473022-d6df-4e99-8265-bd19b4b96979"
   },
   "outputs": [
    {
     "data": {
      "text/plain": [
       "['THE PROJECT GUTENBERG EBOOK OF THE COMPLETE WORKS OF WILLIAM SHAKESPEARE, BY ',\n",
       " 'WILLIAM SHAKESPEARE',\n",
       " '',\n",
       " 'THIS EBOOK IS FOR THE USE OF ANYONE ANYWHERE AT NO COST AND WITH',\n",
       " 'ALMOST NO RESTRICTIONS WHATSOEVER.  YOU MAY COPY IT, GIVE IT AWAY OR',\n",
       " 'RE-USE IT UNDER THE TERMS OF THE PROJECT GUTENBERG LICENSE INCLUDED',\n",
       " 'WITH THIS EBOOK OR ONLINE AT WWW.GUTENBERG.ORG',\n",
       " '',\n",
       " '** THIS IS A COPYRIGHTED PROJECT GUTENBERG EBOOK, DETAILS BELOW **',\n",
       " '**     PLEASE FOLLOW THE COPYRIGHT GUIDELINES IN THIS FILE.     **']"
      ]
     },
     "execution_count": 3,
     "metadata": {},
     "output_type": "execute_result"
    }
   ],
   "source": [
    "shake2 = shake.map(str.upper)\n",
    "shake2.take(10)"
   ]
  },
  {
   "cell_type": "markdown",
   "metadata": {
    "colab_type": "text",
    "id": "qx0qMtPyWf_9"
   },
   "source": [
    "Using the split method you get a list of lists."
   ]
  },
  {
   "cell_type": "code",
   "execution_count": 4,
   "metadata": {
    "colab": {},
    "colab_type": "code",
    "id": "Szr74Z3AWf__",
    "outputId": "9eb7ee2c-1f73-4954-e536-2d30cdbe1ecc"
   },
   "outputs": [
    {
     "data": {
      "text/plain": [
       "[['The',\n",
       "  'Project',\n",
       "  'Gutenberg',\n",
       "  'EBook',\n",
       "  'of',\n",
       "  'The',\n",
       "  'Complete',\n",
       "  'Works',\n",
       "  'of',\n",
       "  'William',\n",
       "  'Shakespeare,',\n",
       "  'by',\n",
       "  ''],\n",
       " ['William', 'Shakespeare'],\n",
       " [''],\n",
       " ['This',\n",
       "  'eBook',\n",
       "  'is',\n",
       "  'for',\n",
       "  'the',\n",
       "  'use',\n",
       "  'of',\n",
       "  'anyone',\n",
       "  'anywhere',\n",
       "  'at',\n",
       "  'no',\n",
       "  'cost',\n",
       "  'and',\n",
       "  'with'],\n",
       " ['almost',\n",
       "  'no',\n",
       "  'restrictions',\n",
       "  'whatsoever.',\n",
       "  '',\n",
       "  'You',\n",
       "  'may',\n",
       "  'copy',\n",
       "  'it,',\n",
       "  'give',\n",
       "  'it',\n",
       "  'away',\n",
       "  'or'],\n",
       " ['re-use',\n",
       "  'it',\n",
       "  'under',\n",
       "  'the',\n",
       "  'terms',\n",
       "  'of',\n",
       "  'the',\n",
       "  'Project',\n",
       "  'Gutenberg',\n",
       "  'License',\n",
       "  'included'],\n",
       " ['with', 'this', 'eBook', 'or', 'online', 'at', 'www.gutenberg.org'],\n",
       " [''],\n",
       " ['**',\n",
       "  'This',\n",
       "  'is',\n",
       "  'a',\n",
       "  'COPYRIGHTED',\n",
       "  'Project',\n",
       "  'Gutenberg',\n",
       "  'eBook,',\n",
       "  'Details',\n",
       "  'Below',\n",
       "  '**'],\n",
       " ['**',\n",
       "  '',\n",
       "  '',\n",
       "  '',\n",
       "  '',\n",
       "  'Please',\n",
       "  'follow',\n",
       "  'the',\n",
       "  'copyright',\n",
       "  'guidelines',\n",
       "  'in',\n",
       "  'this',\n",
       "  'file.',\n",
       "  '',\n",
       "  '',\n",
       "  '',\n",
       "  '',\n",
       "  '**']]"
      ]
     },
     "execution_count": 4,
     "metadata": {},
     "output_type": "execute_result"
    }
   ],
   "source": [
    "shake3 = shake.map(lambda x : x.split(' '))\n",
    "shake3.take(10)"
   ]
  },
  {
   "cell_type": "markdown",
   "metadata": {
    "colab": {},
    "colab_type": "code",
    "id": "y-L0L9BiWgAF"
   },
   "source": [
    "The flatMap method flattens the inner list to return one big list of strings instead"
   ]
  },
  {
   "cell_type": "code",
   "execution_count": 5,
   "metadata": {
    "colab": {},
    "colab_type": "code",
    "id": "gP2oWr9CWgAI",
    "outputId": "971838af-9d18-47e7-bf4b-b0232d7c81a0"
   },
   "outputs": [
    {
     "data": {
      "text/plain": [
       "['The',\n",
       " 'Project',\n",
       " 'Gutenberg',\n",
       " 'EBook',\n",
       " 'of',\n",
       " 'The',\n",
       " 'Complete',\n",
       " 'Works',\n",
       " 'of',\n",
       " 'William',\n",
       " 'Shakespeare,',\n",
       " 'by',\n",
       " '',\n",
       " 'William',\n",
       " 'Shakespeare',\n",
       " '',\n",
       " 'This',\n",
       " 'eBook',\n",
       " 'is',\n",
       " 'for']"
      ]
     },
     "execution_count": 5,
     "metadata": {},
     "output_type": "execute_result"
    }
   ],
   "source": [
    "shake4 = shake.flatMap(lambda x : x.split(' '))\n",
    "shake4.take(20)"
   ]
  },
  {
   "cell_type": "markdown",
   "metadata": {
    "colab_type": "text",
    "id": "BdStyssVWgAU"
   },
   "source": [
    "Parallelize will load manually created data into the spark cluster into an RDD."
   ]
  },
  {
   "cell_type": "code",
   "execution_count": 6,
   "metadata": {
    "colab": {},
    "colab_type": "code",
    "id": "XN8v44eNWgAW",
    "outputId": "73694b7c-5944-4172-9622-7aa2315e634b"
   },
   "outputs": [
    {
     "name": "stdout",
     "output_type": "stream",
     "text": [
      "[1, 2, 3, 4, 5, 6, 7, 8, 9, 10]\n",
      "[1, 2, 3, 4, 5]\n"
     ]
    }
   ],
   "source": [
    "r = sc.parallelize(range(1,11))\n",
    "print(r.collect())\n",
    "print(r.take(5))"
   ]
  },
  {
   "cell_type": "markdown",
   "metadata": {
    "colab_type": "text",
    "id": "SQVoJi3CWgAo"
   },
   "source": [
    "Load a folder stored on HDFS."
   ]
  },
  {
   "cell_type": "code",
   "execution_count": 7,
   "metadata": {
    "colab": {},
    "colab_type": "code",
    "id": "tL89iGyOWgAq",
    "outputId": "eadea4c6-c6e5-430f-b351-66c38372f758"
   },
   "outputs": [
    {
     "data": {
      "text/plain": [
       "['1,Beverages,Soft drinks coffees teas beers and ales',\n",
       " '2,Condiments,Sweet and savory sauces relishes spreads and seasonings',\n",
       " '3,Confections,Desserts candies and sweet breads',\n",
       " '4,Dairy Products,Cheeses',\n",
       " '5,Grains/Cereals,Breads crackers pasta and cereal',\n",
       " '6,Meat/Poultry,Prepared meats',\n",
       " '7,Produce,Dried fruit and bean curd',\n",
       " '8,Seafood,Seaweed and fish']"
      ]
     },
     "execution_count": 7,
     "metadata": {},
     "output_type": "execute_result"
    }
   ],
   "source": [
    "cat = sc.textFile('hdfs://localhost:9000/categories')\n",
    "cat.collect()"
   ]
  },
  {
   "cell_type": "markdown",
   "metadata": {
    "colab_type": "text",
    "id": "FlQ_B5enWgAz"
   },
   "source": [
    "Other useful actions"
   ]
  },
  {
   "cell_type": "code",
   "execution_count": 8,
   "metadata": {
    "colab": {},
    "colab_type": "code",
    "id": "uCqmMuFLWgA1",
    "outputId": "0fe86068-cb9d-4318-ad01-f2a4a9ac0e4d"
   },
   "outputs": [
    {
     "name": "stdout",
     "output_type": "stream",
     "text": [
      "['1,Beverages,Soft drinks coffees teas beers and ales', '2,Condiments,Sweet and savory sauces relishes spreads and seasonings', '3,Confections,Desserts candies and sweet breads', '4,Dairy Products,Cheeses', '5,Grains/Cereals,Breads crackers pasta and cereal']\n",
      "['8,Seafood,Seaweed and fish', '7,Produce,Dried fruit and bean curd', '6,Meat/Poultry,Prepared meats', '5,Grains/Cereals,Breads crackers pasta and cereal', '4,Dairy Products,Cheeses']\n",
      "['6,Meat/Poultry,Prepared meats', '7,Produce,Dried fruit and bean curd', '5,Grains/Cereals,Breads crackers pasta and cereal', '1,Beverages,Soft drinks coffees teas beers and ales', '4,Dairy Products,Cheeses']\n"
     ]
    }
   ],
   "source": [
    "print(cat.takeOrdered(5))\n",
    "print(cat.top(5))\n",
    "print(cat.takeSample(False,5))\n"
   ]
  },
  {
   "cell_type": "markdown",
   "metadata": {
    "colab_type": "text",
    "id": "MqD-2-05WgBC"
   },
   "source": [
    "Save the results in an RDD to disk. Note how it makes a folder and fills it with as many files as there are nodes solving the problem. Also, you must make sure that the folder does not exist or it throws an exception."
   ]
  },
  {
   "cell_type": "code",
   "execution_count": 9,
   "metadata": {
    "colab": {},
    "colab_type": "code",
    "id": "au3L8fPDWgBE"
   },
   "outputs": [],
   "source": [
    "! rm -r /home/student/file1.txt\n",
    "cat.saveAsTextFile('/home/student/file1.txt')"
   ]
  },
  {
   "cell_type": "code",
   "execution_count": 10,
   "metadata": {
    "colab": {},
    "colab_type": "code",
    "id": "TK88KrBTWgBN",
    "outputId": "f2f6f5e4-c75a-43a3-b703-dad4ba6215d5"
   },
   "outputs": [
    {
     "name": "stdout",
     "output_type": "stream",
     "text": [
      "['1,BEVERAGES,SOFT DRINKS COFFEES TEAS BEERS AND ALES', '2,CONDIMENTS,SWEET AND SAVORY SAUCES RELISHES SPREADS AND SEASONINGS', '3,CONFECTIONS,DESSERTS CANDIES AND SWEET BREADS', '4,DAIRY PRODUCTS,CHEESES', '5,GRAINS/CEREALS,BREADS CRACKERS PASTA AND CEREAL', '6,MEAT/POULTRY,PREPARED MEATS', '7,PRODUCE,DRIED FRUIT AND BEAN CURD', '8,SEAFOOD,SEAWEED AND FISH']\n"
     ]
    }
   ],
   "source": [
    "print(cat.map(str.upper).collect())"
   ]
  },
  {
   "cell_type": "markdown",
   "metadata": {
    "colab_type": "text",
    "id": "_vn43ZGHWgBT"
   },
   "source": [
    "Parse the string into a tuple to resemble a record structure."
   ]
  },
  {
   "cell_type": "code",
   "execution_count": 11,
   "metadata": {
    "colab": {},
    "colab_type": "code",
    "id": "KJ2bIehvWgBU",
    "outputId": "95b00339-42bc-4368-89d0-d0271970a8ab"
   },
   "outputs": [
    {
     "data": {
      "text/plain": [
       "[(1, 'Beverages', 'Soft drinks coffees teas beers and ales'),\n",
       " (2, 'Condiments', 'Sweet and savory sauces relishes spreads and seasonings'),\n",
       " (3, 'Confections', 'Desserts candies and sweet breads'),\n",
       " (4, 'Dairy Products', 'Cheeses'),\n",
       " (5, 'Grains/Cereals', 'Breads crackers pasta and cereal'),\n",
       " (6, 'Meat/Poultry', 'Prepared meats'),\n",
       " (7, 'Produce', 'Dried fruit and bean curd'),\n",
       " (8, 'Seafood', 'Seaweed and fish')]"
      ]
     },
     "execution_count": 11,
     "metadata": {},
     "output_type": "execute_result"
    }
   ],
   "source": [
    "cat1 = cat.map(lambda x : tuple(x.split(',')))\n",
    "cat1 = cat1.map(lambda x : (int(x[0]), x[1], x[2]))\n",
    "cat1.take(10)"
   ]
  },
  {
   "cell_type": "markdown",
   "metadata": {
    "colab_type": "text",
    "id": "ko12EKvYWgBX"
   },
   "source": [
    "**LAB:** Put the regions folder found in /home/student/ROI/Spark/datasets/northwind/CSV/regions into HDFS. Read it into an RDD and convert it into a tuple shape."
   ]
  },
  {
   "cell_type": "code",
   "execution_count": null,
   "metadata": {
    "colab": {},
    "colab_type": "code",
    "id": "qZWX8p7nWgBY"
   },
   "outputs": [],
   "source": []
  },
  {
   "cell_type": "markdown",
   "metadata": {
    "colab_type": "text",
    "id": "1451bwFaWgBn"
   },
   "source": [
    "The filter method takes a lambda that returns a True or False."
   ]
  },
  {
   "cell_type": "code",
   "execution_count": 12,
   "metadata": {
    "colab": {},
    "colab_type": "code",
    "id": "WQzyEYCYWgBo",
    "outputId": "e9041e00-3394-4778-9cea-d99d774db4bd"
   },
   "outputs": [
    {
     "data": {
      "text/plain": [
       "[(1, 'Beverages', 'Soft drinks coffees teas beers and ales'),\n",
       " (2, 'Condiments', 'Sweet and savory sauces relishes spreads and seasonings'),\n",
       " (3, 'Confections', 'Desserts candies and sweet breads'),\n",
       " (4, 'Dairy Products', 'Cheeses'),\n",
       " (5, 'Grains/Cereals', 'Breads crackers pasta and cereal')]"
      ]
     },
     "execution_count": 12,
     "metadata": {},
     "output_type": "execute_result"
    }
   ],
   "source": [
    "cat1.filter(lambda x : x[0] <= 5).collect()\n"
   ]
  },
  {
   "cell_type": "markdown",
   "metadata": {
    "colab_type": "text",
    "id": "22q9mGVrWgBu"
   },
   "source": [
    "The filter expressions can be more complicated."
   ]
  },
  {
   "cell_type": "code",
   "execution_count": 13,
   "metadata": {
    "colab": {},
    "colab_type": "code",
    "id": "gIEc83jgWgBw",
    "outputId": "980e4be6-2ea0-4771-e097-f6e50e42173e"
   },
   "outputs": [
    {
     "data": {
      "text/plain": [
       "[(2, 'Condiments', 'Sweet and savory sauces relishes spreads and seasonings'),\n",
       " (6, 'Meat/Poultry', 'Prepared meats'),\n",
       " (8, 'Seafood', 'Seaweed and fish')]"
      ]
     },
     "execution_count": 13,
     "metadata": {},
     "output_type": "execute_result"
    }
   ],
   "source": [
    "cat1.filter(lambda x : x[0] % 2 == 0 and 'e' in x[1]).collect()"
   ]
  },
  {
   "cell_type": "markdown",
   "metadata": {
    "colab_type": "text",
    "id": "s-mS0TT9WgB6"
   },
   "source": [
    "The sortBy method returns an expression that is used to sort the data."
   ]
  },
  {
   "cell_type": "code",
   "execution_count": 14,
   "metadata": {
    "colab": {},
    "colab_type": "code",
    "id": "WQwZ4Z_vWgB7",
    "outputId": "eb921bfa-44f1-4808-d996-181b4318f3a0"
   },
   "outputs": [
    {
     "data": {
      "text/plain": [
       "[(5, 'Grains/Cereals', 'Breads crackers pasta and cereal'),\n",
       " (4, 'Dairy Products', 'Cheeses'),\n",
       " (3, 'Confections', 'Desserts candies and sweet breads'),\n",
       " (7, 'Produce', 'Dried fruit and bean curd'),\n",
       " (6, 'Meat/Poultry', 'Prepared meats'),\n",
       " (8, 'Seafood', 'Seaweed and fish'),\n",
       " (1, 'Beverages', 'Soft drinks coffees teas beers and ales'),\n",
       " (2, 'Condiments', 'Sweet and savory sauces relishes spreads and seasonings')]"
      ]
     },
     "execution_count": 14,
     "metadata": {},
     "output_type": "execute_result"
    }
   ],
   "source": [
    "cat1.sortBy(lambda x : x[2]).collect()"
   ]
  },
  {
   "cell_type": "markdown",
   "metadata": {
    "colab_type": "text",
    "id": "d4gTRsTrWgCD"
   },
   "source": [
    "sortBy has an option ascending parameter to sort in reverse order."
   ]
  },
  {
   "cell_type": "code",
   "execution_count": 15,
   "metadata": {
    "colab": {},
    "colab_type": "code",
    "id": "GRq5r1UAWgCF",
    "outputId": "254d72b5-004a-4ed4-fd09-a19b6d0eb12c"
   },
   "outputs": [
    {
     "data": {
      "text/plain": [
       "[(8, 'Seafood', 'Seaweed and fish'),\n",
       " (7, 'Produce', 'Dried fruit and bean curd'),\n",
       " (6, 'Meat/Poultry', 'Prepared meats'),\n",
       " (5, 'Grains/Cereals', 'Breads crackers pasta and cereal'),\n",
       " (4, 'Dairy Products', 'Cheeses'),\n",
       " (3, 'Confections', 'Desserts candies and sweet breads'),\n",
       " (2, 'Condiments', 'Sweet and savory sauces relishes spreads and seasonings'),\n",
       " (1, 'Beverages', 'Soft drinks coffees teas beers and ales')]"
      ]
     },
     "execution_count": 15,
     "metadata": {},
     "output_type": "execute_result"
    }
   ],
   "source": [
    "cat1.sortBy(lambda x : x[0], ascending = False).collect()"
   ]
  }
 ],
 "metadata": {
  "colab": {
   "include_colab_link": true,
   "name": "IntroToSpark.ipynb",
   "provenance": [],
   "version": "0.3.2"
  },
  "kernelspec": {
   "display_name": "Python 3",
   "language": "python",
   "name": "python3"
  },
  "language_info": {
   "codemirror_mode": {
    "name": "ipython",
    "version": 3
   },
   "file_extension": ".py",
   "mimetype": "text/x-python",
   "name": "python",
   "nbconvert_exporter": "python",
   "pygments_lexer": "ipython3",
   "version": "3.7.3"
  }
 },
 "nbformat": 4,
 "nbformat_minor": 1
}
