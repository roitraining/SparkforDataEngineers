{
 "cells": [
  {
   "cell_type": "code",
   "execution_count": 1,
   "metadata": {
    "colab": {},
    "colab_type": "code",
    "id": "lz5zGzS19FSM"
   },
   "outputs": [],
   "source": [
    "import sys\n",
    "sys.path.append('/home/student/ROI/Spark')\n",
    "from initspark import *\n",
    "sc, spark, conf = initspark()\n"
   ]
  },
  {
   "cell_type": "markdown",
   "metadata": {
    "colab_type": "text",
    "id": "NOnjzU-69FSP"
   },
   "source": [
    "LAB: Put the regions folder found in /home/student/ROI/SparkProgram/datasets/northwind/CSV/regions into HDFS. Read it into an RDD and convert it into a tuple shape. **This is a test.**"
   ]
  },
  {
   "cell_type": "code",
   "execution_count": 6,
   "metadata": {
    "colab": {},
    "colab_type": "code",
    "id": "H1Sdl9BG9FSQ"
   },
   "outputs": [
    {
     "name": "stdout",
     "output_type": "stream",
     "text": [
      "Deleted /regions\r\n"
     ]
    }
   ],
   "source": [
    "! hadoop fs -rm -r /regions\n",
    "! hadoop fs -put /home/student/ROI/Spark/datasets/northwind/CSV/regions /regions"
   ]
  },
  {
   "cell_type": "code",
   "execution_count": 7,
   "metadata": {
    "colab": {},
    "colab_type": "code",
    "id": "OPiYiVSb9FST",
    "outputId": "77edd26d-5523-4318-ba33-c5209074e74f"
   },
   "outputs": [
    {
     "name": "stdout",
     "output_type": "stream",
     "text": [
      "[(1, 'Eastern'), (2, 'Western'), (3, 'Northern'), (4, 'Southern')]\n"
     ]
    }
   ],
   "source": [
    "regions = sc.textFile('hdfs://localhost:9000/regions')\n",
    "regions = regions.map(lambda x : x.split(',')).map(lambda x : (int(x[0]), x[1]))\n",
    "print (regions.collect())"
   ]
  },
  {
   "cell_type": "markdown",
   "metadata": {
    "colab_type": "text",
    "id": "Ht10I0k49FSY"
   },
   "source": [
    "LAB: Try to sort region by name and descending order by ID"
   ]
  },
  {
   "cell_type": "code",
   "execution_count": 8,
   "metadata": {
    "colab": {},
    "colab_type": "code",
    "id": "PjlrIziN9FSY",
    "outputId": "2fdba060-280c-452f-b65f-e1099c76e6a6"
   },
   "outputs": [
    {
     "name": "stdout",
     "output_type": "stream",
     "text": [
      "[(4, 'Southern'), (3, 'Northern'), (2, 'Western'), (1, 'Eastern')]\n"
     ]
    }
   ],
   "source": [
    "print (regions.sortByKey(ascending = False).collect())"
   ]
  },
  {
   "cell_type": "code",
   "execution_count": 9,
   "metadata": {
    "colab": {},
    "colab_type": "code",
    "id": "aHPC3Z6P9FSc",
    "outputId": "e654c53a-10fc-4474-b7bb-a725611cfb47"
   },
   "outputs": [
    {
     "name": "stdout",
     "output_type": "stream",
     "text": [
      "[(1, 'Eastern'), (3, 'Northern'), (4, 'Southern'), (2, 'Western')]\n"
     ]
    }
   ],
   "source": [
    "print (regions.sortBy(lambda x : x[1]).collect())"
   ]
  }
 ],
 "metadata": {
  "colab": {
   "name": "Day1Labs.ipynb",
   "provenance": [],
   "version": "0.3.2"
  },
  "kernelspec": {
   "display_name": "Python 3",
   "language": "python",
   "name": "python3"
  },
  "language_info": {
   "codemirror_mode": {
    "name": "ipython",
    "version": 3
   },
   "file_extension": ".py",
   "mimetype": "text/x-python",
   "name": "python",
   "nbconvert_exporter": "python",
   "pygments_lexer": "ipython3",
   "version": "3.7.3"
  }
 },
 "nbformat": 4,
 "nbformat_minor": 1
}
