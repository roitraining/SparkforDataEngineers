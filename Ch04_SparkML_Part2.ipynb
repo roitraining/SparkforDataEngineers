{
 "cells": [
  {
   "cell_type": "code",
   "execution_count": null,
   "metadata": {},
   "outputs": [],
   "source": [
    "#--packages org.locationtech.rasterframes:pyrasterframes_2.11:0.7.1,org.locationtech.rasterframes:rasterframes_2.11:0.7.1,org.locationtech.rasterframes:rasterframes-datasource_2.11:0.7.1\n",
    "import sys\n",
    "sys.path.append('/home/student/ROI/SparkProgram')\n",
    "from initspark import *\n",
    "sc, spark, conf = initspark()\n",
    "\n",
    "import pandas as pd\n",
    "import matplotlib as mp\n",
    "import numpy\n",
    "from matplotlib import pyplot as plt\n",
    "from IPython.display import display\n",
    "import pyspark_ML_helpers as hlp"
   ]
  },
  {
   "cell_type": "code",
   "execution_count": null,
   "metadata": {
    "scrolled": true
   },
   "outputs": [],
   "source": [
    "#filename = 'CarLoanDefaults.csv'\n",
    "filename = 'bank.csv'\n",
    "\n",
    "df = spark.read.csv(f'/home/student/ROI/Spark/datasets/finance/{filename}', header = True, inferSchema = True)\n",
    "display(df.limit(10).toPandas())\n",
    "\n",
    "# Save a pointer to the raw data\n",
    "df0 = df\n",
    "\n"
   ]
  },
  {
   "cell_type": "code",
   "execution_count": null,
   "metadata": {},
   "outputs": [],
   "source": [
    "import pyspark.sql.functions as F\n",
    "\n",
    "# Keep all columns in either df1 or df2\n",
    "def outter_union(df1, df2):\n",
    "\n",
    "    # Add missing columns to df1\n",
    "    left_df = df1\n",
    "    for column in set(df2.columns) - set(df1.columns):\n",
    "        left_df = left_df.withColumn(column, F.lit(None))\n",
    "\n",
    "    # Add missing columns to df2\n",
    "    right_df = df2\n",
    "    for column in set(df1.columns) - set(df2.columns):\n",
    "        right_df = right_df.withColumn(column, F.lit(None))\n",
    "\n",
    "    # Make sure columns are ordered the same\n",
    "    return left_df.union(right_df.select(left_df.columns))"
   ]
  },
  {
   "cell_type": "code",
   "execution_count": 6,
   "metadata": {
    "scrolled": false
   },
   "outputs": [
    {
     "name": "stdout",
     "output_type": "stream",
     "text": [
      "***********\n",
      "+---+-------------+---------+-------------+\n",
      "|age|marital_Index|job_Index|deposit_Index|\n",
      "+---+-------------+---------+-------------+\n",
      "| 59|          0.0|      3.0|          1.0|\n",
      "| 56|          0.0|      3.0|          1.0|\n",
      "| 41|          0.0|      2.0|          1.0|\n",
      "| 55|          0.0|      4.0|          1.0|\n",
      "| 54|          0.0|      3.0|          1.0|\n",
      "| 42|          1.0|      0.0|          1.0|\n",
      "| 56|          0.0|      0.0|          1.0|\n",
      "| 60|          2.0|      5.0|          1.0|\n",
      "| 37|          0.0|      2.0|          1.0|\n",
      "| 28|          1.0|      4.0|          1.0|\n",
      "| 38|          1.0|      3.0|          1.0|\n",
      "| 30|          0.0|      1.0|          1.0|\n",
      "| 29|          0.0|      0.0|          1.0|\n",
      "| 46|          1.0|      1.0|          1.0|\n",
      "| 31|          1.0|      2.0|          1.0|\n",
      "| 35|          2.0|      0.0|          1.0|\n",
      "| 32|          1.0|      1.0|          1.0|\n",
      "| 49|          0.0|      4.0|          1.0|\n",
      "| 41|          0.0|      3.0|          1.0|\n",
      "| 49|          2.0|      3.0|          1.0|\n",
      "+---+-------------+---------+-------------+\n",
      "only showing top 20 rows\n",
      "\n",
      "+---+-------------+--------------+--------------+\n",
      "|age|deposit_Index|marital_Vector|    job_Vector|\n",
      "+---+-------------+--------------+--------------+\n",
      "| 59|          1.0| (2,[0],[1.0])|(11,[3],[1.0])|\n",
      "| 56|          1.0| (2,[0],[1.0])|(11,[3],[1.0])|\n",
      "| 41|          1.0| (2,[0],[1.0])|(11,[2],[1.0])|\n",
      "| 55|          1.0| (2,[0],[1.0])|(11,[4],[1.0])|\n",
      "| 54|          1.0| (2,[0],[1.0])|(11,[3],[1.0])|\n",
      "| 42|          1.0| (2,[1],[1.0])|(11,[0],[1.0])|\n",
      "| 56|          1.0| (2,[0],[1.0])|(11,[0],[1.0])|\n",
      "| 60|          1.0|     (2,[],[])|(11,[5],[1.0])|\n",
      "| 37|          1.0| (2,[0],[1.0])|(11,[2],[1.0])|\n",
      "| 28|          1.0| (2,[1],[1.0])|(11,[4],[1.0])|\n",
      "| 38|          1.0| (2,[1],[1.0])|(11,[3],[1.0])|\n",
      "| 30|          1.0| (2,[0],[1.0])|(11,[1],[1.0])|\n",
      "| 29|          1.0| (2,[0],[1.0])|(11,[0],[1.0])|\n",
      "| 46|          1.0| (2,[1],[1.0])|(11,[1],[1.0])|\n",
      "| 31|          1.0| (2,[1],[1.0])|(11,[2],[1.0])|\n",
      "| 35|          1.0|     (2,[],[])|(11,[0],[1.0])|\n",
      "| 32|          1.0| (2,[1],[1.0])|(11,[1],[1.0])|\n",
      "| 49|          1.0| (2,[0],[1.0])|(11,[4],[1.0])|\n",
      "| 41|          1.0| (2,[0],[1.0])|(11,[3],[1.0])|\n",
      "| 49|          1.0|     (2,[],[])|(11,[3],[1.0])|\n",
      "+---+-------------+--------------+--------------+\n",
      "only showing top 20 rows\n",
      "\n",
      "root\n",
      " |-- label: double (nullable = false)\n",
      " |-- features: vector (nullable = true)\n",
      "\n"
     ]
    }
   ],
   "source": [
    "import imp\n",
    "imp.reload(hlp)\n",
    "\n",
    "\n",
    "# from pyspark.ml import Pipeline\n",
    "# from pyspark.ml.feature import StringIndexer, OneHotEncoderEstimator, VectorAssembler\n",
    "# from pyspark.sql.functions import monotonically_increasing_id\n",
    "\n",
    "#df90 = df.select('marital','age', 'deposit').withColumn('id', monotonically_increasing_id())\n",
    "# df90.show()\n",
    "# maritalIndexer = StringIndexer(inputCol = 'marital', outputCol = 'maritalIndex')\n",
    "# maritalIndexerFit = maritalIndexer.fit(df.select('marital'))\n",
    "# print(maritalIndexerFit.labels)\n",
    "\n",
    "# encoder = OneHotEncoderEstimator(inputCols=['maritalIndex'], outputCols=['maritalVec'])\n",
    "# pipeline = Pipeline(stages=[maritalIndexer, encoder])\n",
    "# df91 = pipeline.fit(df90.select('marital')).transform(df90.select('marital')).withColumn('id', monotonically_increasing_id())\n",
    "# df91.show()\n",
    "# df91.printSchema()\n",
    "\n",
    "# df93 = df90.join(df91, on = 'id').select('maritalVec', 'age', 'deposit') #.drop('id')\n",
    "# df93.show()\n",
    "\n",
    "import pyspark_ML_helpers as hlp\n",
    "from pyspark_ML_helpers import StringIndexEncode, OneHotEncode, AssembleFeatures\n",
    "\n",
    "# def StringIndexEncode(df, columns):\n",
    "#     df1 = df\n",
    "#     for col in columns:\n",
    "#         indexer = StringIndexer(inputCol = col, outputCol = col+'_Index')\n",
    "#         df1 = indexer.fit(df1).transform(df1).drop(col) #.withColumn('id', monotonically_increasing_id())\n",
    "#     return df1\n",
    "\n",
    "\n",
    "# def OneHotEncode(df, columns):\n",
    "#     df1 = df\n",
    "#     for col in columns:\n",
    "#         encoder = OneHotEncoderEstimator(inputCols=[col + '_Index'], outputCols=[col+'_Vector'])\n",
    "#         df1 = encoder.fit(df1).transform(df1).drop(col + '_Index')\n",
    "#     return df1\n",
    "\n",
    "# def AssembleFeatures(df, categorical_features, numeric_features, label):\n",
    "#     assemblerInputs = [c + \"_Vector\" for c in categorical_features] + numeric_features\n",
    "#     assembler = VectorAssembler(inputCols=assemblerInputs, outputCol=\"features\")\n",
    "#     return assembler.transform(df).withColumnRenamed(label, 'label').drop(*(numeric_features + [c + '_Vector' for c in categorical_features]))\n",
    "\n",
    "print ('***********')\n",
    "df10 = StringIndexEncode(df.select('marital', 'job', 'age', 'deposit'), ['marital','job','deposit'])\n",
    "df10.show()\n",
    "df11 = OneHotEncode(df10, ['marital', 'job'])\n",
    "df11.show()\n",
    "\n",
    "df12 = AssembleFeatures(df11, ['marital','job'],['age'], 'deposit_Index')\n",
    "df12.printSchema()\n",
    "\n",
    "# def collect_tuple(df):\n",
    "#     return [tuple(row) if len(tuple(row)) > 1 else tuple(row)[0] for row in df.collect()]\n",
    "\n",
    "# def collect_dict(df):\n",
    "#     return dict(collect_tuple(df))\n",
    "\n",
    "# print (collect_tuple(df91.select('marital', 'maritalIndex').distinct()))\n",
    "# print (collect_dict(df91.select('marital', 'maritalIndex').distinct()))\n",
    "\n"
   ]
  },
  {
   "cell_type": "code",
   "execution_count": 9,
   "metadata": {},
   "outputs": [
    {
     "name": "stdout",
     "output_type": "stream",
     "text": [
      "Training set row count 7760\n",
      "Testing set row count 3402\n",
      "LR Trained\n",
      "LR Saved\n"
     ]
    }
   ],
   "source": [
    "train, test = df12.randomSplit([.7,.3], seed = 1000)\n",
    "print (f'Training set row count {train.count()}')\n",
    "print (f'Testing set row count {test.count()}')\n",
    "from pyspark.ml.classification import LogisticRegression\n",
    "lr = LogisticRegression(featuresCol = 'features', labelCol = 'label', maxIter=10)\n",
    "lrModel = lr.fit(train)\n",
    "print('LR Trained')\n",
    "filename1 = filename.replace('.','_') + '_LR_trainedModel'\n",
    "\n",
    "lrModel.write().overwrite().save(filename1)\n",
    "#lrModel.save(filename1)\n",
    "print('LR Saved')\n",
    "\n",
    "#lrPredictions, log = hlp.predict_and_evaluate(lrModel, test)\n",
    "\n",
    "#lrModel2 = LogisticRegression.load(filename1)\n",
    "#print('LR Loaded')\n",
    "\n"
   ]
  },
  {
   "cell_type": "code",
   "execution_count": 11,
   "metadata": {},
   "outputs": [
    {
     "ename": "Py4JJavaError",
     "evalue": "An error occurred while calling o900.load.\n: java.lang.NoSuchMethodException: org.apache.spark.ml.classification.LogisticRegressionModel.<init>(java.lang.String)\n\tat java.lang.Class.getConstructor0(Class.java:3082)\n\tat java.lang.Class.getConstructor(Class.java:1825)\n\tat org.apache.spark.ml.util.DefaultParamsReader.load(ReadWrite.scala:496)\n\tat sun.reflect.NativeMethodAccessorImpl.invoke0(Native Method)\n\tat sun.reflect.NativeMethodAccessorImpl.invoke(NativeMethodAccessorImpl.java:62)\n\tat sun.reflect.DelegatingMethodAccessorImpl.invoke(DelegatingMethodAccessorImpl.java:43)\n\tat java.lang.reflect.Method.invoke(Method.java:498)\n\tat py4j.reflection.MethodInvoker.invoke(MethodInvoker.java:244)\n\tat py4j.reflection.ReflectionEngine.invoke(ReflectionEngine.java:357)\n\tat py4j.Gateway.invoke(Gateway.java:282)\n\tat py4j.commands.AbstractCommand.invokeMethod(AbstractCommand.java:132)\n\tat py4j.commands.CallCommand.execute(CallCommand.java:79)\n\tat py4j.GatewayConnection.run(GatewayConnection.java:238)\n\tat java.lang.Thread.run(Thread.java:748)\n",
     "output_type": "error",
     "traceback": [
      "\u001b[0;31m---------------------------------------------------------------------------\u001b[0m",
      "\u001b[0;31mPy4JJavaError\u001b[0m                             Traceback (most recent call last)",
      "\u001b[0;32m<ipython-input-11-20aa7c927b78>\u001b[0m in \u001b[0;36m<module>\u001b[0;34m\u001b[0m\n\u001b[0;32m----> 1\u001b[0;31m \u001b[0mlrModel2\u001b[0m \u001b[0;34m=\u001b[0m \u001b[0mLogisticRegression\u001b[0m\u001b[0;34m.\u001b[0m\u001b[0mload\u001b[0m\u001b[0;34m(\u001b[0m\u001b[0mfilename1\u001b[0m\u001b[0;34m)\u001b[0m\u001b[0;34m\u001b[0m\u001b[0;34m\u001b[0m\u001b[0m\n\u001b[0m",
      "\u001b[0;32m~/anaconda3/lib/python3.7/site-packages/pyspark/ml/util.py\u001b[0m in \u001b[0;36mload\u001b[0;34m(cls, path)\u001b[0m\n\u001b[1;32m    360\u001b[0m     \u001b[0;32mdef\u001b[0m \u001b[0mload\u001b[0m\u001b[0;34m(\u001b[0m\u001b[0mcls\u001b[0m\u001b[0;34m,\u001b[0m \u001b[0mpath\u001b[0m\u001b[0;34m)\u001b[0m\u001b[0;34m:\u001b[0m\u001b[0;34m\u001b[0m\u001b[0;34m\u001b[0m\u001b[0m\n\u001b[1;32m    361\u001b[0m         \u001b[0;34m\"\"\"Reads an ML instance from the input path, a shortcut of `read().load(path)`.\"\"\"\u001b[0m\u001b[0;34m\u001b[0m\u001b[0;34m\u001b[0m\u001b[0m\n\u001b[0;32m--> 362\u001b[0;31m         \u001b[0;32mreturn\u001b[0m \u001b[0mcls\u001b[0m\u001b[0;34m.\u001b[0m\u001b[0mread\u001b[0m\u001b[0;34m(\u001b[0m\u001b[0;34m)\u001b[0m\u001b[0;34m.\u001b[0m\u001b[0mload\u001b[0m\u001b[0;34m(\u001b[0m\u001b[0mpath\u001b[0m\u001b[0;34m)\u001b[0m\u001b[0;34m\u001b[0m\u001b[0;34m\u001b[0m\u001b[0m\n\u001b[0m\u001b[1;32m    363\u001b[0m \u001b[0;34m\u001b[0m\u001b[0m\n\u001b[1;32m    364\u001b[0m \u001b[0;34m\u001b[0m\u001b[0m\n",
      "\u001b[0;32m~/anaconda3/lib/python3.7/site-packages/pyspark/ml/util.py\u001b[0m in \u001b[0;36mload\u001b[0;34m(self, path)\u001b[0m\n\u001b[1;32m    298\u001b[0m         \u001b[0;32mif\u001b[0m \u001b[0;32mnot\u001b[0m \u001b[0misinstance\u001b[0m\u001b[0;34m(\u001b[0m\u001b[0mpath\u001b[0m\u001b[0;34m,\u001b[0m \u001b[0mbasestring\u001b[0m\u001b[0;34m)\u001b[0m\u001b[0;34m:\u001b[0m\u001b[0;34m\u001b[0m\u001b[0;34m\u001b[0m\u001b[0m\n\u001b[1;32m    299\u001b[0m             \u001b[0;32mraise\u001b[0m \u001b[0mTypeError\u001b[0m\u001b[0;34m(\u001b[0m\u001b[0;34m\"path should be a basestring, got type %s\"\u001b[0m \u001b[0;34m%\u001b[0m \u001b[0mtype\u001b[0m\u001b[0;34m(\u001b[0m\u001b[0mpath\u001b[0m\u001b[0;34m)\u001b[0m\u001b[0;34m)\u001b[0m\u001b[0;34m\u001b[0m\u001b[0;34m\u001b[0m\u001b[0m\n\u001b[0;32m--> 300\u001b[0;31m         \u001b[0mjava_obj\u001b[0m \u001b[0;34m=\u001b[0m \u001b[0mself\u001b[0m\u001b[0;34m.\u001b[0m\u001b[0m_jread\u001b[0m\u001b[0;34m.\u001b[0m\u001b[0mload\u001b[0m\u001b[0;34m(\u001b[0m\u001b[0mpath\u001b[0m\u001b[0;34m)\u001b[0m\u001b[0;34m\u001b[0m\u001b[0;34m\u001b[0m\u001b[0m\n\u001b[0m\u001b[1;32m    301\u001b[0m         \u001b[0;32mif\u001b[0m \u001b[0;32mnot\u001b[0m \u001b[0mhasattr\u001b[0m\u001b[0;34m(\u001b[0m\u001b[0mself\u001b[0m\u001b[0;34m.\u001b[0m\u001b[0m_clazz\u001b[0m\u001b[0;34m,\u001b[0m \u001b[0;34m\"_from_java\"\u001b[0m\u001b[0;34m)\u001b[0m\u001b[0;34m:\u001b[0m\u001b[0;34m\u001b[0m\u001b[0;34m\u001b[0m\u001b[0m\n\u001b[1;32m    302\u001b[0m             raise NotImplementedError(\"This Java ML type cannot be loaded into Python currently: %r\"\n",
      "\u001b[0;32m~/anaconda3/lib/python3.7/site-packages/py4j/java_gateway.py\u001b[0m in \u001b[0;36m__call__\u001b[0;34m(self, *args)\u001b[0m\n\u001b[1;32m   1255\u001b[0m         \u001b[0manswer\u001b[0m \u001b[0;34m=\u001b[0m \u001b[0mself\u001b[0m\u001b[0;34m.\u001b[0m\u001b[0mgateway_client\u001b[0m\u001b[0;34m.\u001b[0m\u001b[0msend_command\u001b[0m\u001b[0;34m(\u001b[0m\u001b[0mcommand\u001b[0m\u001b[0;34m)\u001b[0m\u001b[0;34m\u001b[0m\u001b[0;34m\u001b[0m\u001b[0m\n\u001b[1;32m   1256\u001b[0m         return_value = get_return_value(\n\u001b[0;32m-> 1257\u001b[0;31m             answer, self.gateway_client, self.target_id, self.name)\n\u001b[0m\u001b[1;32m   1258\u001b[0m \u001b[0;34m\u001b[0m\u001b[0m\n\u001b[1;32m   1259\u001b[0m         \u001b[0;32mfor\u001b[0m \u001b[0mtemp_arg\u001b[0m \u001b[0;32min\u001b[0m \u001b[0mtemp_args\u001b[0m\u001b[0;34m:\u001b[0m\u001b[0;34m\u001b[0m\u001b[0;34m\u001b[0m\u001b[0m\n",
      "\u001b[0;32m~/anaconda3/lib/python3.7/site-packages/pyspark/sql/utils.py\u001b[0m in \u001b[0;36mdeco\u001b[0;34m(*a, **kw)\u001b[0m\n\u001b[1;32m     61\u001b[0m     \u001b[0;32mdef\u001b[0m \u001b[0mdeco\u001b[0m\u001b[0;34m(\u001b[0m\u001b[0;34m*\u001b[0m\u001b[0ma\u001b[0m\u001b[0;34m,\u001b[0m \u001b[0;34m**\u001b[0m\u001b[0mkw\u001b[0m\u001b[0;34m)\u001b[0m\u001b[0;34m:\u001b[0m\u001b[0;34m\u001b[0m\u001b[0;34m\u001b[0m\u001b[0m\n\u001b[1;32m     62\u001b[0m         \u001b[0;32mtry\u001b[0m\u001b[0;34m:\u001b[0m\u001b[0;34m\u001b[0m\u001b[0;34m\u001b[0m\u001b[0m\n\u001b[0;32m---> 63\u001b[0;31m             \u001b[0;32mreturn\u001b[0m \u001b[0mf\u001b[0m\u001b[0;34m(\u001b[0m\u001b[0;34m*\u001b[0m\u001b[0ma\u001b[0m\u001b[0;34m,\u001b[0m \u001b[0;34m**\u001b[0m\u001b[0mkw\u001b[0m\u001b[0;34m)\u001b[0m\u001b[0;34m\u001b[0m\u001b[0;34m\u001b[0m\u001b[0m\n\u001b[0m\u001b[1;32m     64\u001b[0m         \u001b[0;32mexcept\u001b[0m \u001b[0mpy4j\u001b[0m\u001b[0;34m.\u001b[0m\u001b[0mprotocol\u001b[0m\u001b[0;34m.\u001b[0m\u001b[0mPy4JJavaError\u001b[0m \u001b[0;32mas\u001b[0m \u001b[0me\u001b[0m\u001b[0;34m:\u001b[0m\u001b[0;34m\u001b[0m\u001b[0;34m\u001b[0m\u001b[0m\n\u001b[1;32m     65\u001b[0m             \u001b[0ms\u001b[0m \u001b[0;34m=\u001b[0m \u001b[0me\u001b[0m\u001b[0;34m.\u001b[0m\u001b[0mjava_exception\u001b[0m\u001b[0;34m.\u001b[0m\u001b[0mtoString\u001b[0m\u001b[0;34m(\u001b[0m\u001b[0;34m)\u001b[0m\u001b[0;34m\u001b[0m\u001b[0;34m\u001b[0m\u001b[0m\n",
      "\u001b[0;32m~/anaconda3/lib/python3.7/site-packages/py4j/protocol.py\u001b[0m in \u001b[0;36mget_return_value\u001b[0;34m(answer, gateway_client, target_id, name)\u001b[0m\n\u001b[1;32m    326\u001b[0m                 raise Py4JJavaError(\n\u001b[1;32m    327\u001b[0m                     \u001b[0;34m\"An error occurred while calling {0}{1}{2}.\\n\"\u001b[0m\u001b[0;34m.\u001b[0m\u001b[0;34m\u001b[0m\u001b[0;34m\u001b[0m\u001b[0m\n\u001b[0;32m--> 328\u001b[0;31m                     format(target_id, \".\", name), value)\n\u001b[0m\u001b[1;32m    329\u001b[0m             \u001b[0;32melse\u001b[0m\u001b[0;34m:\u001b[0m\u001b[0;34m\u001b[0m\u001b[0;34m\u001b[0m\u001b[0m\n\u001b[1;32m    330\u001b[0m                 raise Py4JError(\n",
      "\u001b[0;31mPy4JJavaError\u001b[0m: An error occurred while calling o900.load.\n: java.lang.NoSuchMethodException: org.apache.spark.ml.classification.LogisticRegressionModel.<init>(java.lang.String)\n\tat java.lang.Class.getConstructor0(Class.java:3082)\n\tat java.lang.Class.getConstructor(Class.java:1825)\n\tat org.apache.spark.ml.util.DefaultParamsReader.load(ReadWrite.scala:496)\n\tat sun.reflect.NativeMethodAccessorImpl.invoke0(Native Method)\n\tat sun.reflect.NativeMethodAccessorImpl.invoke(NativeMethodAccessorImpl.java:62)\n\tat sun.reflect.DelegatingMethodAccessorImpl.invoke(DelegatingMethodAccessorImpl.java:43)\n\tat java.lang.reflect.Method.invoke(Method.java:498)\n\tat py4j.reflection.MethodInvoker.invoke(MethodInvoker.java:244)\n\tat py4j.reflection.ReflectionEngine.invoke(ReflectionEngine.java:357)\n\tat py4j.Gateway.invoke(Gateway.java:282)\n\tat py4j.commands.AbstractCommand.invokeMethod(AbstractCommand.java:132)\n\tat py4j.commands.CallCommand.execute(CallCommand.java:79)\n\tat py4j.GatewayConnection.run(GatewayConnection.java:238)\n\tat java.lang.Thread.run(Thread.java:748)\n"
     ]
    }
   ],
   "source": [
    "lrModel2 = LogisticRegression.load(filename1)"
   ]
  },
  {
   "cell_type": "code",
   "execution_count": null,
   "metadata": {},
   "outputs": [],
   "source": [
    "if filename == 'bank.csv':\n",
    "    drop_cols = ('day','month')\n",
    "    target_col = 'deposit'\n",
    "    categorical_features = ['job', 'marital', 'education', 'default', 'housing', 'loan', 'contact', 'campaign','poutcome']\n",
    "elif filename == 'CarLoanDefaults.csv':\n",
    "    drop_cols = ('UNIQUEID','DATE_OF_BIRTH','DISBURSAL_DATE', 'AVERAGE_ACCT_AGE', 'CREDIT_HISTORY_LENGTH')\n",
    "    target_col = 'LOAN_DEFAULT'\n",
    "    categorical_features = hlp.auto_categorical_features(df)\n",
    "\n",
    "df = hlp.drop_columns(df0, drop_cols)\n",
    "numeric_features = hlp.auto_numeric_features(df, exceptlist = categorical_features)\n",
    "print (numeric_features)\n",
    "print ('*' * 80)\n",
    "hlp.describe_numeric_features(df, numeric_features)\n",
    "print ('*' * 80)\n",
    "\n",
    "# save a pointer to the fixed data\n",
    "df1 = df\n"
   ]
  },
  {
   "cell_type": "code",
   "execution_count": null,
   "metadata": {},
   "outputs": [],
   "source": [
    "#hlp.scatter_matrix(df, numeric_features)"
   ]
  },
  {
   "cell_type": "code",
   "execution_count": null,
   "metadata": {},
   "outputs": [],
   "source": [
    "df, catindexes = hlp.fix_categorical_data(df, categorical_features, target_col, numeric_features)\n",
    "# save a pointer to this stage of the dataframe\n",
    "df2 = df\n",
    "df.printSchema()\n",
    "\n",
    "print (catindexes)"
   ]
  },
  {
   "cell_type": "code",
   "execution_count": null,
   "metadata": {},
   "outputs": [],
   "source": [
    "train, test = df.randomSplit([.7,.3], seed = 1000)\n",
    "print (f'Training set row count {train.count()}')\n",
    "print (f'Testing set row count {test.count()}')\n",
    "      "
   ]
  },
  {
   "cell_type": "code",
   "execution_count": null,
   "metadata": {},
   "outputs": [],
   "source": [
    "from pyspark.ml.classification import LogisticRegression\n",
    "lr = LogisticRegression(featuresCol = 'features', labelCol = 'label', maxIter=10)\n",
    "lrModel = lr.fit(train)\n",
    "print('LR Trained')\n",
    "lrModel.save(filename.replace('.','_') + '_LR.trainedModel')"
   ]
  },
  {
   "cell_type": "code",
   "execution_count": null,
   "metadata": {},
   "outputs": [],
   "source": [
    "lrPredictions, log = hlp.predict_and_evaluate(lrModel, test)\n"
   ]
  },
  {
   "cell_type": "code",
   "execution_count": null,
   "metadata": {},
   "outputs": [],
   "source": [
    "from pyspark.ml.classification import DecisionTreeClassifier\n",
    "dt = DecisionTreeClassifier(featuresCol = 'features', labelCol = 'label', maxDepth = 3)\n",
    "dtModel = dt.fit(train)\n",
    "print('DT Trained')\n",
    "filename1 = filename.replace('.','_') + '_DT_trainedModel'\n",
    "#dtModel.stages\n",
    "#.write.overwrite().save(filename1)\n",
    "dtModel.save(filename1)\n",
    "print('DT Saved')\n",
    "dtModel2 = DecisionTreeClassifier.load(filename1)\n",
    "print('DT Loaded')\n",
    "\n"
   ]
  },
  {
   "cell_type": "code",
   "execution_count": null,
   "metadata": {},
   "outputs": [],
   "source": [
    "dtPredictions, log = hlp.predict_and_evaluate(gbtModel, test)"
   ]
  },
  {
   "cell_type": "code",
   "execution_count": null,
   "metadata": {},
   "outputs": [],
   "source": [
    "from pyspark.ml.classification import RandomForestClassifier\n",
    "rf = RandomForestClassifier(featuresCol = 'features', labelCol = 'label')\n",
    "rfModel = rf.fit(train)\n",
    "print('RF Trained')\n",
    "rfModel.save(filename.replace('.','_') + '_RF.trainedModel')"
   ]
  },
  {
   "cell_type": "code",
   "execution_count": null,
   "metadata": {},
   "outputs": [],
   "source": [
    "rfPredictions, log = hlp.predict_and_evaluate(gbtModel, test)"
   ]
  },
  {
   "cell_type": "code",
   "execution_count": null,
   "metadata": {},
   "outputs": [],
   "source": [
    "from pyspark.ml.classification import GBTClassifier\n",
    "gbt = GBTClassifier(maxIter=10)\n",
    "gbtModel = gbt.fit(train)\n",
    "print ('GBT Trained')\n",
    "gbtModel.save(filename.replace('.','_') + '_GBT.trainedModel')"
   ]
  },
  {
   "cell_type": "code",
   "execution_count": null,
   "metadata": {},
   "outputs": [],
   "source": [
    "#import imp\n",
    "#imp.reload(hlp)\n",
    "\n",
    "gbtPredictions, log = hlp.predict_and_evaluate(gbtModel, test)\n"
   ]
  },
  {
   "cell_type": "code",
   "execution_count": null,
   "metadata": {},
   "outputs": [],
   "source": []
  }
 ],
 "metadata": {
  "kernelspec": {
   "display_name": "Python 3",
   "language": "python",
   "name": "python3"
  },
  "language_info": {
   "codemirror_mode": {
    "name": "ipython",
    "version": 3
   },
   "file_extension": ".py",
   "mimetype": "text/x-python",
   "name": "python",
   "nbconvert_exporter": "python",
   "pygments_lexer": "ipython3",
   "version": "3.7.3"
  }
 },
 "nbformat": 4,
 "nbformat_minor": 2
}
